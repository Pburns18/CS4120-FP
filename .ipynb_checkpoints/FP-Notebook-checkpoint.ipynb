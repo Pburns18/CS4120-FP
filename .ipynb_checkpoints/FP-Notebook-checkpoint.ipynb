{
 "cells": [
  {
   "cell_type": "code",
   "execution_count": 1,
   "metadata": {},
   "outputs": [
    {
     "name": "stderr",
     "output_type": "stream",
     "text": [
      "[nltk_data] Downloading package stopwords to\n",
      "[nltk_data]     C:\\Users\\pburn\\AppData\\Roaming\\nltk_data...\n",
      "[nltk_data]   Package stopwords is already up-to-date!\n",
      "[nltk_data] Downloading package wordnet to\n",
      "[nltk_data]     C:\\Users\\pburn\\AppData\\Roaming\\nltk_data...\n",
      "[nltk_data]   Package wordnet is already up-to-date!\n",
      "[nltk_data] Downloading package omw-1.4 to\n",
      "[nltk_data]     C:\\Users\\pburn\\AppData\\Roaming\\nltk_data...\n",
      "[nltk_data]   Package omw-1.4 is already up-to-date!\n"
     ]
    }
   ],
   "source": [
    "import numpy as np\n",
    "import sys\n",
    "from collections import Counter\n",
    "import re\n",
    "import nltk\n",
    "import pandas as pd\n",
    "from nltk.corpus import stopwords\n",
    "import math\n",
    "from sklearn.model_selection import train_test_split\n",
    "from nltk.stem import WordNetLemmatizer\n",
    "from nltk.stem import PorterStemmer\n",
    "from nltk.tokenize import word_tokenize\n",
    "import contractions\n",
    "import re\n",
    "import spacy\n",
    "from spacy import displacy\n",
    "nltk.download('stopwords')\n",
    "nltk.download('wordnet')\n",
    "nltk.download('omw-1.4')\n",
    "from nltk.corpus import stopwords\n",
    "from textblob import TextBlob\n",
    "from sklearn.feature_extraction.text import TfidfVectorizer\n",
    "from sklearn.feature_extraction.text import CountVectorizer\n",
    "from sklearn.naive_bayes import MultinomialNB\n",
    "from sklearn.metrics import f1_score\n",
    "from sklearn.metrics import accuracy_score\n",
    "from sklearn.metrics import precision_score\n",
    "from sklearn.metrics import recall_score\n",
    "from sklearn.metrics import confusion_matrix, ConfusionMatrixDisplay\n",
    "from matplotlib import rcParams\n",
    "import matplotlib.pyplot as plt\n",
    "import seaborn as sns\n",
    "import time\n",
    "import keras\n",
    "from keras.models import Model\n",
    "from keras.layers import Input\n",
    "from keras import layers\n",
    "from keras.layers import Dense\n",
    "from keras.optimizers import SGD"
   ]
  },
  {
   "cell_type": "code",
   "execution_count": 2,
   "metadata": {},
   "outputs": [
    {
     "data": {
      "text/html": [
       "<div>\n",
       "<style scoped>\n",
       "    .dataframe tbody tr th:only-of-type {\n",
       "        vertical-align: middle;\n",
       "    }\n",
       "\n",
       "    .dataframe tbody tr th {\n",
       "        vertical-align: top;\n",
       "    }\n",
       "\n",
       "    .dataframe thead th {\n",
       "        text-align: right;\n",
       "    }\n",
       "</style>\n",
       "<table border=\"1\" class=\"dataframe\">\n",
       "  <thead>\n",
       "    <tr style=\"text-align: right;\">\n",
       "      <th></th>\n",
       "      <th>text</th>\n",
       "      <th>label</th>\n",
       "    </tr>\n",
       "  </thead>\n",
       "  <tbody>\n",
       "    <tr>\n",
       "      <th>0</th>\n",
       "      <td>I grew up (b. 1965) watching and loving the Th...</td>\n",
       "      <td>0</td>\n",
       "    </tr>\n",
       "    <tr>\n",
       "      <th>1</th>\n",
       "      <td>When I put this movie in my DVD player, and sa...</td>\n",
       "      <td>0</td>\n",
       "    </tr>\n",
       "    <tr>\n",
       "      <th>2</th>\n",
       "      <td>Why do people who do not know what a particula...</td>\n",
       "      <td>0</td>\n",
       "    </tr>\n",
       "    <tr>\n",
       "      <th>3</th>\n",
       "      <td>Even though I have great interest in Biblical ...</td>\n",
       "      <td>0</td>\n",
       "    </tr>\n",
       "    <tr>\n",
       "      <th>4</th>\n",
       "      <td>Im a die hard Dads Army fan and nothing will e...</td>\n",
       "      <td>1</td>\n",
       "    </tr>\n",
       "  </tbody>\n",
       "</table>\n",
       "</div>"
      ],
      "text/plain": [
       "                                                text  label\n",
       "0  I grew up (b. 1965) watching and loving the Th...      0\n",
       "1  When I put this movie in my DVD player, and sa...      0\n",
       "2  Why do people who do not know what a particula...      0\n",
       "3  Even though I have great interest in Biblical ...      0\n",
       "4  Im a die hard Dads Army fan and nothing will e...      1"
      ]
     },
     "execution_count": 2,
     "metadata": {},
     "output_type": "execute_result"
    }
   ],
   "source": [
    "# Reading in dataset\n",
    "movie_df = pd.read_csv(\"movie.csv\")\n",
    "movie_df.head()\n",
    "movie_df = movie_df[['text', 'label']]\n",
    "# yelp_df['stars'] = yelp_df['stars'].apply(str)\n",
    "movie_df.head()"
   ]
  },
  {
   "cell_type": "code",
   "execution_count": 3,
   "metadata": {},
   "outputs": [],
   "source": [
    "def apply_lowercase(text):\n",
    "    new_text = text.lower()\n",
    "    return new_text"
   ]
  },
  {
   "cell_type": "code",
   "execution_count": 4,
   "metadata": {},
   "outputs": [
    {
     "data": {
      "text/html": [
       "<div>\n",
       "<style scoped>\n",
       "    .dataframe tbody tr th:only-of-type {\n",
       "        vertical-align: middle;\n",
       "    }\n",
       "\n",
       "    .dataframe tbody tr th {\n",
       "        vertical-align: top;\n",
       "    }\n",
       "\n",
       "    .dataframe thead th {\n",
       "        text-align: right;\n",
       "    }\n",
       "</style>\n",
       "<table border=\"1\" class=\"dataframe\">\n",
       "  <thead>\n",
       "    <tr style=\"text-align: right;\">\n",
       "      <th></th>\n",
       "      <th>text</th>\n",
       "      <th>label</th>\n",
       "    </tr>\n",
       "  </thead>\n",
       "  <tbody>\n",
       "    <tr>\n",
       "      <th>0</th>\n",
       "      <td>i grew up (b. 1965) watching and loving the th...</td>\n",
       "      <td>0</td>\n",
       "    </tr>\n",
       "    <tr>\n",
       "      <th>1</th>\n",
       "      <td>when i put this movie in my dvd player, and sa...</td>\n",
       "      <td>0</td>\n",
       "    </tr>\n",
       "    <tr>\n",
       "      <th>2</th>\n",
       "      <td>why do people who do not know what a particula...</td>\n",
       "      <td>0</td>\n",
       "    </tr>\n",
       "    <tr>\n",
       "      <th>3</th>\n",
       "      <td>even though i have great interest in biblical ...</td>\n",
       "      <td>0</td>\n",
       "    </tr>\n",
       "    <tr>\n",
       "      <th>4</th>\n",
       "      <td>im a die hard dads army fan and nothing will e...</td>\n",
       "      <td>1</td>\n",
       "    </tr>\n",
       "    <tr>\n",
       "      <th>...</th>\n",
       "      <td>...</td>\n",
       "      <td>...</td>\n",
       "    </tr>\n",
       "    <tr>\n",
       "      <th>4995</th>\n",
       "      <td>absolutely putrid slasher film has not one red...</td>\n",
       "      <td>0</td>\n",
       "    </tr>\n",
       "    <tr>\n",
       "      <th>4996</th>\n",
       "      <td>one of frances farmer's earliest movies; at 22...</td>\n",
       "      <td>0</td>\n",
       "    </tr>\n",
       "    <tr>\n",
       "      <th>4997</th>\n",
       "      <td>i rented this thinking it would be pretty good...</td>\n",
       "      <td>0</td>\n",
       "    </tr>\n",
       "    <tr>\n",
       "      <th>4998</th>\n",
       "      <td>we went into this movie because my husband had...</td>\n",
       "      <td>0</td>\n",
       "    </tr>\n",
       "    <tr>\n",
       "      <th>4999</th>\n",
       "      <td>i think this movie was made backwards, first t...</td>\n",
       "      <td>0</td>\n",
       "    </tr>\n",
       "  </tbody>\n",
       "</table>\n",
       "<p>5000 rows × 2 columns</p>\n",
       "</div>"
      ],
      "text/plain": [
       "                                                   text  label\n",
       "0     i grew up (b. 1965) watching and loving the th...      0\n",
       "1     when i put this movie in my dvd player, and sa...      0\n",
       "2     why do people who do not know what a particula...      0\n",
       "3     even though i have great interest in biblical ...      0\n",
       "4     im a die hard dads army fan and nothing will e...      1\n",
       "...                                                 ...    ...\n",
       "4995  absolutely putrid slasher film has not one red...      0\n",
       "4996  one of frances farmer's earliest movies; at 22...      0\n",
       "4997  i rented this thinking it would be pretty good...      0\n",
       "4998  we went into this movie because my husband had...      0\n",
       "4999  i think this movie was made backwards, first t...      0\n",
       "\n",
       "[5000 rows x 2 columns]"
      ]
     },
     "execution_count": 4,
     "metadata": {},
     "output_type": "execute_result"
    }
   ],
   "source": [
    "movie_df['text'] = movie_df['text'].apply(apply_lowercase)\n",
    "#yelp_df['text'] = yelp_df['text'].apply(apply_space_tokenization)\n",
    "movie_df = movie_df[0:5000]\n",
    "movie_df"
   ]
  },
  {
   "cell_type": "markdown",
   "metadata": {},
   "source": [
    "# Preprocessing Expirements\n",
    "#### Potentially we do some constants throughout our experiments? I.e Tokenize just by spaces, and lowecase all"
   ]
  },
  {
   "cell_type": "code",
   "execution_count": 5,
   "metadata": {},
   "outputs": [],
   "source": [
    "# Pre-Processing Globals\n",
    "STOP_WORDS = set(stopwords.words('english'))\n",
    "NER = spacy.load(\"en_core_web_sm\")\n",
    "LEM = WordNetLemmatizer()\n",
    "PS = PorterStemmer()"
   ]
  },
  {
   "cell_type": "markdown",
   "metadata": {},
   "source": [
    "### No Pre-Processing"
   ]
  },
  {
   "cell_type": "markdown",
   "metadata": {},
   "source": [
    "### Lemanization"
   ]
  },
  {
   "cell_type": "code",
   "execution_count": 6,
   "metadata": {},
   "outputs": [],
   "source": [
    "def apply_lem(text):\n",
    "    new_text = []\n",
    "    for word in text.split(' '):\n",
    "        new_word = LEM.lemmatize(word)\n",
    "        new_text.append(new_word)\n",
    "    review = ' '.join(new_text)\n",
    "    return review"
   ]
  },
  {
   "cell_type": "markdown",
   "metadata": {},
   "source": [
    "### Stemming"
   ]
  },
  {
   "cell_type": "code",
   "execution_count": 7,
   "metadata": {},
   "outputs": [],
   "source": [
    "def apply_stemming(text):\n",
    "    new_text = []\n",
    "    for word in text.split(' '):\n",
    "        new_word = PS.stem(word)\n",
    "        new_text.append(new_word)\n",
    "    review = ' '.join(new_text)\n",
    "    return review"
   ]
  },
  {
   "cell_type": "markdown",
   "metadata": {},
   "source": [
    "### Contraction expansion"
   ]
  },
  {
   "cell_type": "code",
   "execution_count": 8,
   "metadata": {},
   "outputs": [],
   "source": [
    "def apply_contraction_expansion(text):\n",
    "    new_text = []\n",
    "    for word in text.split(' '):\n",
    "        new_word = contractions.fix(text)\n",
    "        new_text.append(new_word)\n",
    "    review = ' '.join(new_text)\n",
    "    return review"
   ]
  },
  {
   "cell_type": "markdown",
   "metadata": {},
   "source": [
    "### Removing Number related text"
   ]
  },
  {
   "cell_type": "code",
   "execution_count": 9,
   "metadata": {},
   "outputs": [],
   "source": [
    "def apply_number_removal(text):\n",
    "    review = re.sub(r'[0-9]', '', text)\n",
    "    return review"
   ]
  },
  {
   "cell_type": "markdown",
   "metadata": {},
   "source": [
    "### Punctuation Removal"
   ]
  },
  {
   "cell_type": "code",
   "execution_count": 10,
   "metadata": {},
   "outputs": [],
   "source": [
    "def apply_punctuation_removal(text):\n",
    "    review = re.sub(r'[.,!?-_;:&#$@%=+]', '', text)\n",
    "    return review"
   ]
  },
  {
   "cell_type": "markdown",
   "metadata": {},
   "source": [
    "### Stopword Removal"
   ]
  },
  {
   "cell_type": "code",
   "execution_count": 11,
   "metadata": {},
   "outputs": [],
   "source": [
    "def apply_stopword_removal(text):\n",
    "    new_text = []\n",
    "    for word in text.split(' '):\n",
    "        if text in STOP_WORDS:\n",
    "            continue\n",
    "        else:\n",
    "            new_text.append(word)\n",
    "    review = ' '.join(new_text)\n",
    "    return review"
   ]
  },
  {
   "cell_type": "markdown",
   "metadata": {},
   "source": [
    "### NER AND POS TAGGING"
   ]
  },
  {
   "cell_type": "code",
   "execution_count": 12,
   "metadata": {},
   "outputs": [],
   "source": [
    "def apply_spacy(text):\n",
    "    applied_text = NER(text)\n",
    "    return applied_text.text\n",
    "\n",
    "\n",
    "def get_pos(spacy_text):\n",
    "    new_sentence = []\n",
    "    excluded_tags = {\"NOUN\", \"PRON\", \"PROPN\", \"DET\", \"ADP\", \"PUNCT\",}\n",
    "    for word in spacy_text:\n",
    "        if word.pos_ not in excluded_tags:\n",
    "            new_sentence.append(word.text)\n",
    "    review = ' '.join(new_sentence)\n",
    "    return review"
   ]
  },
  {
   "cell_type": "markdown",
   "metadata": {},
   "source": [
    "# Model Creation & Test Execution"
   ]
  },
  {
   "cell_type": "code",
   "execution_count": 13,
   "metadata": {},
   "outputs": [],
   "source": [
    "def report_metrics(gold_labels, predicted_labels, name, clf):\n",
    "    labels = [0, 1]\n",
    "    # Reporting metrics & confusion matrix\n",
    "    acc = round(accuracy_score(gold_labels, predicted_labels), 4)\n",
    "    err = round(1 - acc, 4)\n",
    "    pre = round(precision_score(gold_labels, predicted_labels), 4)\n",
    "    rec = round(recall_score(gold_labels, predicted_labels), 4)\n",
    "    f1 = round(f1_score(gold_labels, predicted_labels), 4)\n",
    "\n",
    "    print(\"Accuracy: \", acc)\n",
    "    print(\"Error: \", err)\n",
    "    print(\"Precision: \", pre)\n",
    "    print(\"Recall: \", rec)\n",
    "    print(\"F1-Score: \", f1)\n",
    "\n",
    "    cf_matrix = confusion_matrix(gold_labels, predicted_labels, labels=labels)\n",
    "    rcParams['figure.figsize'] = (6, 4)\n",
    "    sns.heatmap(cf_matrix, annot=True, cmap=\"Greens\", xticklabels=labels, yticklabels=labels, fmt='g')\n",
    "    plt.title(name)\n",
    "    plt.ylabel(\"True Labels\")\n",
    "    plt.xlabel(\"Predicted Labels\")\n",
    "    plt.show()\n",
    "    \n",
    "    return acc, err, pre, rec, f1"
   ]
  },
  {
   "cell_type": "code",
   "execution_count": 14,
   "metadata": {},
   "outputs": [],
   "source": [
    "def setup_experiment(text, labels, pre_processing_step):\n",
    "    if pre_processing_step == \"None\":\n",
    "        corpus = text\n",
    "        vectorizer = CountVectorizer(max_features=500)\n",
    "        X = vectorizer.fit_transform(corpus).toarray()\n",
    "        y = labels\n",
    "        \n",
    "        return X, y, 0\n",
    "    \n",
    "    # Creating a corpus (list of documents)\n",
    "    start_time = time.time()\n",
    "    corpus = list((map(pre_processing_step, text)))\n",
    "    end_time = time.time()\n",
    "    print(end_time-start_time)\n",
    "    \n",
    "    # Using BOW representation\n",
    "    vectorizer = CountVectorizer(max_features=500)\n",
    "    \n",
    "    X = vectorizer.fit_transform(corpus).toarray()\n",
    "    y = labels\n",
    "    \n",
    "    return X, y, end_time - start_time"
   ]
  },
  {
   "cell_type": "code",
   "execution_count": 15,
   "metadata": {},
   "outputs": [],
   "source": [
    "def run_experiment(X, y, model_name, time):\n",
    "    X_train, X_test, y_train, y_test = train_test_split(X, y, test_size=0.2, random_state=18)\n",
    "    \n",
    "    if model_name == 'NB':\n",
    "        model = MultinomialNB()\n",
    "        # Running experiment\n",
    "        model.fit(X_train, y_train)\n",
    "    \n",
    "        # Make predictions\n",
    "        predictions = model.predict(X_test)\n",
    "        \n",
    "        # Calculating metrics\n",
    "        acc, err, pre, rec, f1 = report_metrics(y_test, predictions, model_name, model)\n",
    "        \n",
    "        return acc, err, pre, rec, f1, time\n",
    "    \n",
    "    elif model_name == 'Deep':\n",
    "        model = keras.Sequential([\n",
    "        layers.Dense(400, activation=\"relu\"),\n",
    "        layers.Dense(400, activation=\"relu\"),\n",
    "        layers.Dense(200, activation=\"relu\"),\n",
    "        layers.Dense(1, activation=\"sigmoid\")])\n",
    "        model.compile(loss='binary_crossentropy', optimizer=SGD(lr=0.01, momentum=0.9), metrics=['accuracy'])\n",
    "        \n",
    "        # Running experiment\n",
    "        model.fit(X_train, y_train, epochs=10, batch_size=100, verbose=1)\n",
    "        \n",
    "        # Make predictions\n",
    "        predictions = model.predict_classes(X_test)\n",
    "        \n",
    "        # Calculating metrics\n",
    "        acc, err, pre, rec, f1 = report_metrics(y_test, predictions, model_name, model)\n",
    "        \n",
    "        return acc, err, pre, rec, f1, time\n",
    "    else:\n",
    "        pass"
   ]
  },
  {
   "cell_type": "code",
   "execution_count": 16,
   "metadata": {},
   "outputs": [
    {
     "name": "stdout",
     "output_type": "stream",
     "text": [
      "None\n",
      "Epoch 1/10\n",
      "40/40 [==============================] - 0s 3ms/step - loss: 0.6760 - accuracy: 0.6022\n",
      "Epoch 2/10\n",
      "40/40 [==============================] - 0s 3ms/step - loss: 0.5737 - accuracy: 0.7132\n",
      "Epoch 3/10\n",
      "40/40 [==============================] - 0s 3ms/step - loss: 0.5188 - accuracy: 0.7540\n",
      "Epoch 4/10\n",
      "40/40 [==============================] - 0s 3ms/step - loss: 0.4804 - accuracy: 0.7810\n",
      "Epoch 5/10\n",
      "40/40 [==============================] - 0s 3ms/step - loss: 0.4362 - accuracy: 0.7995\n",
      "Epoch 6/10\n",
      "40/40 [==============================] - 0s 4ms/step - loss: 0.4052 - accuracy: 0.8192\n",
      "Epoch 7/10\n",
      "40/40 [==============================] - 0s 4ms/step - loss: 0.3636 - accuracy: 0.8410\n",
      "Epoch 8/10\n",
      "40/40 [==============================] - 0s 3ms/step - loss: 0.3205 - accuracy: 0.8658\n",
      "Epoch 9/10\n",
      "40/40 [==============================] - 0s 3ms/step - loss: 0.3513 - accuracy: 0.8490\n",
      "Epoch 10/10\n",
      "40/40 [==============================] - 0s 4ms/step - loss: 0.3320 - accuracy: 0.8587\n",
      "WARNING:tensorflow:From <ipython-input-15-e72ff990229d>:29: Sequential.predict_classes (from tensorflow.python.keras.engine.sequential) is deprecated and will be removed after 2021-01-01.\n",
      "Instructions for updating:\n",
      "Please use instead:* `np.argmax(model.predict(x), axis=-1)`,   if your model does multi-class classification   (e.g. if it uses a `softmax` last-layer activation).* `(model.predict(x) > 0.5).astype(\"int32\")`,   if your model does binary classification   (e.g. if it uses a `sigmoid` last-layer activation).\n",
      "Accuracy:  0.799\n",
      "Error:  0.201\n",
      "Precision:  0.7533\n",
      "Recall:  0.8974\n",
      "F1-Score:  0.8191\n"
     ]
    },
    {
     "data": {
      "image/png": "[encoded data removed]",
      "text/plain": [
       "<Figure size 432x288 with 2 Axes>"
      ]
     },
     "metadata": {
      "needs_background": "light"
     },
     "output_type": "display_data"
    },
    {
     "name": "stdout",
     "output_type": "stream",
     "text": [
      "lem\n",
      "7.587049722671509\n",
      "Epoch 1/10\n",
      "40/40 [==============================] - 0s 3ms/step - loss: 0.6618 - accuracy: 0.6022\n",
      "Epoch 2/10\n",
      "40/40 [==============================] - 0s 3ms/step - loss: 0.5970 - accuracy: 0.7015\n",
      "Epoch 3/10\n",
      "40/40 [==============================] - 0s 3ms/step - loss: 0.5999 - accuracy: 0.6913\n",
      "Epoch 4/10\n",
      "40/40 [==============================] - 0s 3ms/step - loss: 0.4851 - accuracy: 0.7775\n",
      "Epoch 5/10\n",
      "40/40 [==============================] - 0s 3ms/step - loss: 0.4491 - accuracy: 0.7935\n",
      "Epoch 6/10\n",
      "40/40 [==============================] - 0s 3ms/step - loss: 0.4161 - accuracy: 0.8158\n",
      "Epoch 7/10\n",
      "40/40 [==============================] - 0s 3ms/step - loss: 0.3704 - accuracy: 0.8388\n",
      "Epoch 8/10\n",
      "40/40 [==============================] - 0s 3ms/step - loss: 0.3430 - accuracy: 0.8597\n",
      "Epoch 9/10\n",
      "40/40 [==============================] - 0s 3ms/step - loss: 0.3534 - accuracy: 0.8403\n",
      "Epoch 10/10\n",
      "40/40 [==============================] - 0s 3ms/step - loss: 0.2987 - accuracy: 0.8752\n",
      "Accuracy:  0.804\n",
      "Error:  0.196\n",
      "Precision:  0.7695\n",
      "Recall:  0.8757\n",
      "F1-Score:  0.8192\n"
     ]
    },
    {
     "data": {
      "image/png": "[encoded data removed]",
      "text/plain": [
       "<Figure size 432x288 with 2 Axes>"
      ]
     },
     "metadata": {
      "needs_background": "light"
     },
     "output_type": "display_data"
    },
    {
     "name": "stdout",
     "output_type": "stream",
     "text": [
      "stemming\n",
      "26.049150228500366\n",
      "Epoch 1/10\n",
      "40/40 [==============================] - 0s 4ms/step - loss: 0.6514 - accuracy: 0.6263\n",
      "Epoch 2/10\n",
      "40/40 [==============================] - 0s 3ms/step - loss: 0.5836 - accuracy: 0.7075\n",
      "Epoch 3/10\n",
      "40/40 [==============================] - 0s 3ms/step - loss: 0.4925 - accuracy: 0.7775\n",
      "Epoch 4/10\n",
      "40/40 [==============================] - 0s 4ms/step - loss: 0.4719 - accuracy: 0.7857\n",
      "Epoch 5/10\n",
      "40/40 [==============================] - 0s 3ms/step - loss: 0.4636 - accuracy: 0.7970\n",
      "Epoch 6/10\n",
      "40/40 [==============================] - 0s 3ms/step - loss: 0.4074 - accuracy: 0.8232\n",
      "Epoch 7/10\n",
      "40/40 [==============================] - 0s 3ms/step - loss: 0.3964 - accuracy: 0.8263\n",
      "Epoch 8/10\n",
      "40/40 [==============================] - 0s 3ms/step - loss: 0.3795 - accuracy: 0.8317\n",
      "Epoch 9/10\n",
      "40/40 [==============================] - 0s 3ms/step - loss: 0.3703 - accuracy: 0.8450\n",
      "Epoch 10/10\n",
      "40/40 [==============================] - 0s 3ms/step - loss: 0.3223 - accuracy: 0.8662\n",
      "Accuracy:  0.785\n",
      "Error:  0.215\n",
      "Precision:  0.8544\n",
      "Recall:  0.6943\n",
      "F1-Score:  0.7661\n"
     ]
    },
    {
     "data": {
      "image/png": "[encoded data removed]",
      "text/plain": [
       "<Figure size 432x288 with 2 Axes>"
      ]
     },
     "metadata": {
      "needs_background": "light"
     },
     "output_type": "display_data"
    },
    {
     "name": "stdout",
     "output_type": "stream",
     "text": [
      "contraction_expansion\n",
      "182.40075945854187\n",
      "Epoch 1/10\n",
      "40/40 [==============================] - 0s 3ms/step - loss: nan - accuracy: 0.5200\n",
      "Epoch 2/10\n",
      "40/40 [==============================] - 0s 3ms/step - loss: nan - accuracy: 0.5222\n",
      "Epoch 3/10\n",
      "40/40 [==============================] - 0s 3ms/step - loss: nan - accuracy: 0.5222\n",
      "Epoch 4/10\n",
      "40/40 [==============================] - 0s 3ms/step - loss: nan - accuracy: 0.5222\n",
      "Epoch 5/10\n",
      "40/40 [==============================] - 0s 3ms/step - loss: nan - accuracy: 0.5222\n",
      "Epoch 6/10\n",
      "40/40 [==============================] - 0s 3ms/step - loss: nan - accuracy: 0.5222\n",
      "Epoch 7/10\n",
      "40/40 [==============================] - 0s 3ms/step - loss: nan - accuracy: 0.5222\n",
      "Epoch 8/10\n",
      "40/40 [==============================] - 0s 3ms/step - loss: nan - accuracy: 0.5222\n",
      "Epoch 9/10\n",
      "40/40 [==============================] - 0s 3ms/step - loss: nan - accuracy: 0.5222\n",
      "Epoch 10/10\n",
      "40/40 [==============================] - 0s 3ms/step - loss: nan - accuracy: 0.5222\n",
      "Accuracy:  0.493\n",
      "Error:  0.507\n",
      "Precision:  0.0\n",
      "Recall:  0.0\n",
      "F1-Score:  0.0\n"
     ]
    },
    {
     "name": "stderr",
     "output_type": "stream",
     "text": [
      "C:\\Users\\pburn\\Anaconda3\\lib\\site-packages\\sklearn\\metrics\\_classification.py:1221: UndefinedMetricWarning: Precision is ill-defined and being set to 0.0 due to no predicted samples. Use `zero_division` parameter to control this behavior.\n",
      "  _warn_prf(average, modifier, msg_start, len(result))\n"
     ]
    },
    {
     "data": {
      "image/png": "[encoded data removed]",
      "text/plain": [
       "<Figure size 432x288 with 2 Axes>"
      ]
     },
     "metadata": {
      "needs_background": "light"
     },
     "output_type": "display_data"
    },
    {
     "name": "stdout",
     "output_type": "stream",
     "text": [
      "number_removal\n",
      "0.07081270217895508\n",
      "Epoch 1/10\n",
      "40/40 [==============================] - 0s 3ms/step - loss: 0.6440 - accuracy: 0.6335\n",
      "Epoch 2/10\n",
      "40/40 [==============================] - 0s 3ms/step - loss: 0.5725 - accuracy: 0.7125\n",
      "Epoch 3/10\n",
      "40/40 [==============================] - 0s 3ms/step - loss: 0.5099 - accuracy: 0.7632\n",
      "Epoch 4/10\n",
      "40/40 [==============================] - 0s 3ms/step - loss: 0.4997 - accuracy: 0.7640\n",
      "Epoch 5/10\n",
      "40/40 [==============================] - 0s 3ms/step - loss: 0.4233 - accuracy: 0.8075\n",
      "Epoch 6/10\n",
      "40/40 [==============================] - 0s 3ms/step - loss: 0.3692 - accuracy: 0.8390\n",
      "Epoch 7/10\n",
      "40/40 [==============================] - 0s 3ms/step - loss: 0.3514 - accuracy: 0.8495\n",
      "Epoch 8/10\n",
      "40/40 [==============================] - 0s 3ms/step - loss: 0.3468 - accuracy: 0.8512\n",
      "Epoch 9/10\n",
      "40/40 [==============================] - 0s 3ms/step - loss: 0.3162 - accuracy: 0.8662\n",
      "Epoch 10/10\n",
      "40/40 [==============================] - 0s 3ms/step - loss: 0.3742 - accuracy: 0.8275\n",
      "Accuracy:  0.772\n",
      "Error:  0.228\n",
      "Precision:  0.7183\n",
      "Recall:  0.9053\n",
      "F1-Score:  0.801\n"
     ]
    },
    {
     "data": {
      "image/png": "[encoded data removed]",
      "text/plain": [
       "<Figure size 432x288 with 2 Axes>"
      ]
     },
     "metadata": {
      "needs_background": "light"
     },
     "output_type": "display_data"
    },
    {
     "name": "stdout",
     "output_type": "stream",
     "text": [
      "punctuation_removal\n",
      "0.08178186416625977\n",
      "Epoch 1/10\n",
      "40/40 [==============================] - 0s 3ms/step - loss: 0.6730 - accuracy: 0.5920\n",
      "Epoch 2/10\n",
      "40/40 [==============================] - 0s 3ms/step - loss: 0.5684 - accuracy: 0.7090\n",
      "Epoch 3/10\n",
      "40/40 [==============================] - 0s 3ms/step - loss: 0.5015 - accuracy: 0.7628\n",
      "Epoch 4/10\n",
      "40/40 [==============================] - 0s 3ms/step - loss: 0.4679 - accuracy: 0.7910\n",
      "Epoch 5/10\n",
      "40/40 [==============================] - 0s 3ms/step - loss: 0.4542 - accuracy: 0.7983\n",
      "Epoch 6/10\n",
      "40/40 [==============================] - 0s 3ms/step - loss: 0.4283 - accuracy: 0.8060\n",
      "Epoch 7/10\n",
      "40/40 [==============================] - 0s 3ms/step - loss: 0.4384 - accuracy: 0.8070\n",
      "Epoch 8/10\n",
      "40/40 [==============================] - 0s 3ms/step - loss: 0.3890 - accuracy: 0.8322\n",
      "Epoch 9/10\n",
      "40/40 [==============================] - 0s 3ms/step - loss: 0.3179 - accuracy: 0.8597\n",
      "Epoch 10/10\n",
      "40/40 [==============================] - 0s 3ms/step - loss: 0.2932 - accuracy: 0.8737\n",
      "Accuracy:  0.775\n",
      "Error:  0.225\n",
      "Precision:  0.8874\n",
      "Recall:  0.6371\n",
      "F1-Score:  0.7417\n"
     ]
    },
    {
     "data": {
      "image/png": "[encoded data removed]",
      "text/plain": [
       "<Figure size 432x288 with 2 Axes>"
      ]
     },
     "metadata": {
      "needs_background": "light"
     },
     "output_type": "display_data"
    },
    {
     "name": "stdout",
     "output_type": "stream",
     "text": [
      "stopword_removal\n",
      "0.25032973289489746\n",
      "Epoch 1/10\n",
      "40/40 [==============================] - 0s 3ms/step - loss: 0.6778 - accuracy: 0.5997\n",
      "Epoch 2/10\n",
      "40/40 [==============================] - 0s 3ms/step - loss: 0.5924 - accuracy: 0.6930\n",
      "Epoch 3/10\n",
      "40/40 [==============================] - 0s 3ms/step - loss: 0.5167 - accuracy: 0.7530\n",
      "Epoch 4/10\n",
      "40/40 [==============================] - 0s 3ms/step - loss: 0.5145 - accuracy: 0.7552\n",
      "Epoch 5/10\n",
      "40/40 [==============================] - 0s 3ms/step - loss: 0.4666 - accuracy: 0.7890\n",
      "Epoch 6/10\n",
      "40/40 [==============================] - 0s 3ms/step - loss: 0.4128 - accuracy: 0.8190\n",
      "Epoch 7/10\n",
      "40/40 [==============================] - 0s 3ms/step - loss: 0.3836 - accuracy: 0.8395\n",
      "Epoch 8/10\n",
      "40/40 [==============================] - 0s 3ms/step - loss: 0.3621 - accuracy: 0.8453\n",
      "Epoch 9/10\n",
      "40/40 [==============================] - 0s 3ms/step - loss: 0.3547 - accuracy: 0.8475\n",
      "Epoch 10/10\n",
      "40/40 [==============================] - 0s 3ms/step - loss: 0.3519 - accuracy: 0.8468\n",
      "Accuracy:  0.798\n",
      "Error:  0.202\n",
      "Precision:  0.8157\n",
      "Recall:  0.7771\n",
      "F1-Score:  0.796\n"
     ]
    },
    {
     "data": {
      "image/png": "[encoded data removed]",
      "text/plain": [
       "<Figure size 432x288 with 2 Axes>"
      ]
     },
     "metadata": {
      "needs_background": "light"
     },
     "output_type": "display_data"
    },
    {
     "name": "stdout",
     "output_type": "stream",
     "text": [
      "pos_removal\n",
      "198.731347322464\n",
      "Epoch 1/10\n",
      "40/40 [==============================] - 0s 3ms/step - loss: 0.6349 - accuracy: 0.6455\n",
      "Epoch 2/10\n",
      "40/40 [==============================] - 0s 3ms/step - loss: 0.5799 - accuracy: 0.7113\n",
      "Epoch 3/10\n",
      "40/40 [==============================] - 0s 3ms/step - loss: 0.5051 - accuracy: 0.7592\n",
      "Epoch 4/10\n",
      "40/40 [==============================] - 0s 3ms/step - loss: 0.4466 - accuracy: 0.7977\n",
      "Epoch 5/10\n",
      "40/40 [==============================] - 0s 3ms/step - loss: 0.4494 - accuracy: 0.7955\n",
      "Epoch 6/10\n",
      "40/40 [==============================] - 0s 3ms/step - loss: 0.4598 - accuracy: 0.7947\n",
      "Epoch 7/10\n",
      "40/40 [==============================] - 0s 3ms/step - loss: 0.4447 - accuracy: 0.7935\n",
      "Epoch 8/10\n",
      "40/40 [==============================] - 0s 3ms/step - loss: 0.3415 - accuracy: 0.8565\n",
      "Epoch 9/10\n",
      "40/40 [==============================] - 0s 3ms/step - loss: 0.3305 - accuracy: 0.8602\n",
      "Epoch 10/10\n",
      "40/40 [==============================] - 0s 3ms/step - loss: 0.2998 - accuracy: 0.8755\n",
      "Accuracy:  0.791\n",
      "Error:  0.209\n",
      "Precision:  0.8548\n",
      "Recall:  0.7081\n",
      "F1-Score:  0.7745\n"
     ]
    },
    {
     "data": {
      "image/png": "[encoded data removed]",
      "text/plain": [
       "<Figure size 432x288 with 2 Axes>"
      ]
     },
     "metadata": {
      "needs_background": "light"
     },
     "output_type": "display_data"
    },
    {
     "name": "stdout",
     "output_type": "stream",
     "text": [
      "None\n",
      "Accuracy:  0.776\n",
      "Error:  0.224\n",
      "Precision:  0.7847\n",
      "Recall:  0.7692\n",
      "F1-Score:  0.7769\n"
     ]
    },
    {
     "data": {
      "image/png": "[encoded data removed]",
      "text/plain": [
       "<Figure size 432x288 with 2 Axes>"
      ]
     },
     "metadata": {
      "needs_background": "light"
     },
     "output_type": "display_data"
    },
    {
     "name": "stdout",
     "output_type": "stream",
     "text": [
      "lem\n",
      "5.446049213409424\n",
      "Accuracy:  0.778\n",
      "Error:  0.222\n",
      "Precision:  0.7902\n",
      "Recall:  0.7653\n",
      "F1-Score:  0.7776\n"
     ]
    },
    {
     "data": {
      "image/png": "[encoded data removed]",
      "text/plain": [
       "<Figure size 432x288 with 2 Axes>"
      ]
     },
     "metadata": {
      "needs_background": "light"
     },
     "output_type": "display_data"
    },
    {
     "name": "stdout",
     "output_type": "stream",
     "text": [
      "stemming\n",
      "24.122233867645264\n",
      "Accuracy:  0.761\n",
      "Error:  0.239\n",
      "Precision:  0.7769\n",
      "Recall:  0.7416\n",
      "F1-Score:  0.7588\n"
     ]
    },
    {
     "data": {
      "image/png": "[encoded data removed]",
      "text/plain": [
       "<Figure size 432x288 with 2 Axes>"
      ]
     },
     "metadata": {
      "needs_background": "light"
     },
     "output_type": "display_data"
    },
    {
     "name": "stdout",
     "output_type": "stream",
     "text": [
      "contraction_expansion\n",
      "175.74615502357483\n",
      "Accuracy:  0.726\n",
      "Error:  0.274\n",
      "Precision:  0.7618\n",
      "Recall:  0.6686\n",
      "F1-Score:  0.7122\n"
     ]
    },
    {
     "data": {
      "image/png": "[encoded data removed]",
      "text/plain": [
       "<Figure size 432x288 with 2 Axes>"
      ]
     },
     "metadata": {
      "needs_background": "light"
     },
     "output_type": "display_data"
    },
    {
     "name": "stdout",
     "output_type": "stream",
     "text": [
      "number_removal\n",
      "0.06186795234680176\n",
      "Accuracy:  0.776\n",
      "Error:  0.224\n",
      "Precision:  0.7836\n",
      "Recall:  0.7712\n",
      "F1-Score:  0.7773\n"
     ]
    },
    {
     "data": {
      "image/png": "[encoded data removed]",
      "text/plain": [
       "<Figure size 432x288 with 2 Axes>"
      ]
     },
     "metadata": {
      "needs_background": "light"
     },
     "output_type": "display_data"
    },
    {
     "name": "stdout",
     "output_type": "stream",
     "text": [
      "punctuation_removal\n",
      "0.07380318641662598\n",
      "Accuracy:  0.782\n",
      "Error:  0.218\n",
      "Precision:  0.7884\n",
      "Recall:  0.7791\n",
      "F1-Score:  0.7837\n"
     ]
    },
    {
     "data": {
      "image/png": "[encoded data removed]",
      "text/plain": [
       "<Figure size 432x288 with 2 Axes>"
      ]
     },
     "metadata": {
      "needs_background": "light"
     },
     "output_type": "display_data"
    },
    {
     "name": "stdout",
     "output_type": "stream",
     "text": [
      "stopword_removal\n",
      "0.2429511547088623\n",
      "Accuracy:  0.776\n",
      "Error:  0.224\n",
      "Precision:  0.7847\n",
      "Recall:  0.7692\n",
      "F1-Score:  0.7769\n"
     ]
    },
    {
     "data": {
      "image/png": "[encoded data removed]",
      "text/plain": [
       "<Figure size 432x288 with 2 Axes>"
      ]
     },
     "metadata": {
      "needs_background": "light"
     },
     "output_type": "display_data"
    },
    {
     "name": "stdout",
     "output_type": "stream",
     "text": [
      "pos_removal\n",
      "192.6488687992096\n",
      "Accuracy:  0.776\n",
      "Error:  0.224\n",
      "Precision:  0.7847\n",
      "Recall:  0.7692\n",
      "F1-Score:  0.7769\n"
     ]
    },
    {
     "data": {
      "image/png": "[encoded data removed]",
      "text/plain": [
       "<Figure size 432x288 with 2 Axes>"
      ]
     },
     "metadata": {
      "needs_background": "light"
     },
     "output_type": "display_data"
    }
   ],
   "source": [
    "# Pre-processing options\n",
    "# apply_spelling_correction\n",
    "options = ['None', apply_lem, apply_stemming, apply_contraction_expansion, apply_number_removal,\n",
    "          apply_punctuation_removal, apply_stopword_removal, apply_spacy]\n",
    "options_string = ['None', 'lem', 'stemming', 'contraction_expansion', 'number_removal',\n",
    "          'punctuation_removal', 'stopword_removal', 'pos_removal']\n",
    "\n",
    "columns = ['Pre-Processing', 'Acuracy', 'Error', 'Precision', 'Recall', 'F1-Score', 'Time']\n",
    "\n",
    "results_df = pd.DataFrame(columns=columns)\n",
    "\n",
    "text = movie_df['text'].to_numpy()\n",
    "labels = movie_df['label'].to_numpy()\n",
    "\n",
    "# Running experiments for Neural Network model\n",
    "for option, name in zip(options, options_string):\n",
    "    print(name)\n",
    "    X, y, t = setup_experiment(text, labels, option)\n",
    "    acc, err, pre, rec, f1, t  = run_experiment(X, y, \"Deep\", t)\n",
    "    df_dict = {'Pre-Processing':\"Deep-\"+name, 'Acuracy':acc, 'Error':err, 'Precision':pre, \n",
    "               'Recall':rec, 'F1-Score':f1, 'Time':t}\n",
    "    results_df = results_df.append(df_dict, ignore_index=True)\n",
    "    \n",
    "# Running experiments for Naive Bayes model\n",
    "for option, name in zip(options, options_string):\n",
    "    print(name)\n",
    "    X, y, t = setup_experiment(text, labels, option)\n",
    "    acc, err, pre, rec, f1, t  = run_experiment(X, y, \"NB\", t)\n",
    "    df_dict = {'Pre-Processing':\"NB-\"+name, 'Acuracy':acc, 'Error':err, 'Precision':pre, \n",
    "               'Recall':rec, 'F1-Score':f1, 'Time':t}\n",
    "    results_df = results_df.append(df_dict, ignore_index=True)"
   ]
  },
  {
   "cell_type": "code",
   "execution_count": 17,
   "metadata": {},
   "outputs": [
    {
     "data": {
      "text/html": [
       "<div>\n",
       "<style scoped>\n",
       "    .dataframe tbody tr th:only-of-type {\n",
       "        vertical-align: middle;\n",
       "    }\n",
       "\n",
       "    .dataframe tbody tr th {\n",
       "        vertical-align: top;\n",
       "    }\n",
       "\n",
       "    .dataframe thead th {\n",
       "        text-align: right;\n",
       "    }\n",
       "</style>\n",
       "<table border=\"1\" class=\"dataframe\">\n",
       "  <thead>\n",
       "    <tr style=\"text-align: right;\">\n",
       "      <th></th>\n",
       "      <th>Pre-Processing</th>\n",
       "      <th>Acuracy</th>\n",
       "      <th>Error</th>\n",
       "      <th>Precision</th>\n",
       "      <th>Recall</th>\n",
       "      <th>F1-Score</th>\n",
       "      <th>Time</th>\n",
       "    </tr>\n",
       "  </thead>\n",
       "  <tbody>\n",
       "    <tr>\n",
       "      <th>0</th>\n",
       "      <td>Deep-None</td>\n",
       "      <td>0.799</td>\n",
       "      <td>0.201</td>\n",
       "      <td>0.7533</td>\n",
       "      <td>0.8974</td>\n",
       "      <td>0.8191</td>\n",
       "      <td>0</td>\n",
       "    </tr>\n",
       "    <tr>\n",
       "      <th>1</th>\n",
       "      <td>Deep-lem</td>\n",
       "      <td>0.804</td>\n",
       "      <td>0.196</td>\n",
       "      <td>0.7695</td>\n",
       "      <td>0.8757</td>\n",
       "      <td>0.8192</td>\n",
       "      <td>7.58705</td>\n",
       "    </tr>\n",
       "    <tr>\n",
       "      <th>2</th>\n",
       "      <td>Deep-stemming</td>\n",
       "      <td>0.785</td>\n",
       "      <td>0.215</td>\n",
       "      <td>0.8544</td>\n",
       "      <td>0.6943</td>\n",
       "      <td>0.7661</td>\n",
       "      <td>26.04915</td>\n",
       "    </tr>\n",
       "    <tr>\n",
       "      <th>3</th>\n",
       "      <td>Deep-contraction_expansion</td>\n",
       "      <td>0.493</td>\n",
       "      <td>0.507</td>\n",
       "      <td>0.0000</td>\n",
       "      <td>0.0000</td>\n",
       "      <td>0.0000</td>\n",
       "      <td>182.400759</td>\n",
       "    </tr>\n",
       "    <tr>\n",
       "      <th>4</th>\n",
       "      <td>Deep-number_removal</td>\n",
       "      <td>0.772</td>\n",
       "      <td>0.228</td>\n",
       "      <td>0.7183</td>\n",
       "      <td>0.9053</td>\n",
       "      <td>0.8010</td>\n",
       "      <td>0.070813</td>\n",
       "    </tr>\n",
       "    <tr>\n",
       "      <th>5</th>\n",
       "      <td>Deep-punctuation_removal</td>\n",
       "      <td>0.775</td>\n",
       "      <td>0.225</td>\n",
       "      <td>0.8874</td>\n",
       "      <td>0.6371</td>\n",
       "      <td>0.7417</td>\n",
       "      <td>0.081782</td>\n",
       "    </tr>\n",
       "    <tr>\n",
       "      <th>6</th>\n",
       "      <td>Deep-stopword_removal</td>\n",
       "      <td>0.798</td>\n",
       "      <td>0.202</td>\n",
       "      <td>0.8157</td>\n",
       "      <td>0.7771</td>\n",
       "      <td>0.7960</td>\n",
       "      <td>0.25033</td>\n",
       "    </tr>\n",
       "    <tr>\n",
       "      <th>7</th>\n",
       "      <td>Deep-pos_removal</td>\n",
       "      <td>0.791</td>\n",
       "      <td>0.209</td>\n",
       "      <td>0.8548</td>\n",
       "      <td>0.7081</td>\n",
       "      <td>0.7745</td>\n",
       "      <td>198.731347</td>\n",
       "    </tr>\n",
       "    <tr>\n",
       "      <th>8</th>\n",
       "      <td>NB-None</td>\n",
       "      <td>0.776</td>\n",
       "      <td>0.224</td>\n",
       "      <td>0.7847</td>\n",
       "      <td>0.7692</td>\n",
       "      <td>0.7769</td>\n",
       "      <td>0</td>\n",
       "    </tr>\n",
       "    <tr>\n",
       "      <th>9</th>\n",
       "      <td>NB-lem</td>\n",
       "      <td>0.778</td>\n",
       "      <td>0.222</td>\n",
       "      <td>0.7902</td>\n",
       "      <td>0.7653</td>\n",
       "      <td>0.7776</td>\n",
       "      <td>5.446049</td>\n",
       "    </tr>\n",
       "    <tr>\n",
       "      <th>10</th>\n",
       "      <td>NB-stemming</td>\n",
       "      <td>0.761</td>\n",
       "      <td>0.239</td>\n",
       "      <td>0.7769</td>\n",
       "      <td>0.7416</td>\n",
       "      <td>0.7588</td>\n",
       "      <td>24.122234</td>\n",
       "    </tr>\n",
       "    <tr>\n",
       "      <th>11</th>\n",
       "      <td>NB-contraction_expansion</td>\n",
       "      <td>0.726</td>\n",
       "      <td>0.274</td>\n",
       "      <td>0.7618</td>\n",
       "      <td>0.6686</td>\n",
       "      <td>0.7122</td>\n",
       "      <td>175.746155</td>\n",
       "    </tr>\n",
       "    <tr>\n",
       "      <th>12</th>\n",
       "      <td>NB-number_removal</td>\n",
       "      <td>0.776</td>\n",
       "      <td>0.224</td>\n",
       "      <td>0.7836</td>\n",
       "      <td>0.7712</td>\n",
       "      <td>0.7773</td>\n",
       "      <td>0.061868</td>\n",
       "    </tr>\n",
       "    <tr>\n",
       "      <th>13</th>\n",
       "      <td>NB-punctuation_removal</td>\n",
       "      <td>0.782</td>\n",
       "      <td>0.218</td>\n",
       "      <td>0.7884</td>\n",
       "      <td>0.7791</td>\n",
       "      <td>0.7837</td>\n",
       "      <td>0.073803</td>\n",
       "    </tr>\n",
       "    <tr>\n",
       "      <th>14</th>\n",
       "      <td>NB-stopword_removal</td>\n",
       "      <td>0.776</td>\n",
       "      <td>0.224</td>\n",
       "      <td>0.7847</td>\n",
       "      <td>0.7692</td>\n",
       "      <td>0.7769</td>\n",
       "      <td>0.242951</td>\n",
       "    </tr>\n",
       "    <tr>\n",
       "      <th>15</th>\n",
       "      <td>NB-pos_removal</td>\n",
       "      <td>0.776</td>\n",
       "      <td>0.224</td>\n",
       "      <td>0.7847</td>\n",
       "      <td>0.7692</td>\n",
       "      <td>0.7769</td>\n",
       "      <td>192.648869</td>\n",
       "    </tr>\n",
       "  </tbody>\n",
       "</table>\n",
       "</div>"
      ],
      "text/plain": [
       "                Pre-Processing  Acuracy  Error  Precision  Recall  F1-Score  \\\n",
       "0                    Deep-None    0.799  0.201     0.7533  0.8974    0.8191   \n",
       "1                     Deep-lem    0.804  0.196     0.7695  0.8757    0.8192   \n",
       "2                Deep-stemming    0.785  0.215     0.8544  0.6943    0.7661   \n",
       "3   Deep-contraction_expansion    0.493  0.507     0.0000  0.0000    0.0000   \n",
       "4          Deep-number_removal    0.772  0.228     0.7183  0.9053    0.8010   \n",
       "5     Deep-punctuation_removal    0.775  0.225     0.8874  0.6371    0.7417   \n",
       "6        Deep-stopword_removal    0.798  0.202     0.8157  0.7771    0.7960   \n",
       "7             Deep-pos_removal    0.791  0.209     0.8548  0.7081    0.7745   \n",
       "8                      NB-None    0.776  0.224     0.7847  0.7692    0.7769   \n",
       "9                       NB-lem    0.778  0.222     0.7902  0.7653    0.7776   \n",
       "10                 NB-stemming    0.761  0.239     0.7769  0.7416    0.7588   \n",
       "11    NB-contraction_expansion    0.726  0.274     0.7618  0.6686    0.7122   \n",
       "12           NB-number_removal    0.776  0.224     0.7836  0.7712    0.7773   \n",
       "13      NB-punctuation_removal    0.782  0.218     0.7884  0.7791    0.7837   \n",
       "14         NB-stopword_removal    0.776  0.224     0.7847  0.7692    0.7769   \n",
       "15              NB-pos_removal    0.776  0.224     0.7847  0.7692    0.7769   \n",
       "\n",
       "          Time  \n",
       "0            0  \n",
       "1      7.58705  \n",
       "2     26.04915  \n",
       "3   182.400759  \n",
       "4     0.070813  \n",
       "5     0.081782  \n",
       "6      0.25033  \n",
       "7   198.731347  \n",
       "8            0  \n",
       "9     5.446049  \n",
       "10   24.122234  \n",
       "11  175.746155  \n",
       "12    0.061868  \n",
       "13    0.073803  \n",
       "14    0.242951  \n",
       "15  192.648869  "
      ]
     },
     "execution_count": 17,
     "metadata": {},
     "output_type": "execute_result"
    }
   ],
   "source": [
    "results_df"
   ]
  },
  {
   "cell_type": "code",
   "execution_count": 2,
   "metadata": {},
   "outputs": [
    {
     "name": "stdout",
     "output_type": "stream",
     "text": [
      "['Deep-None', 'Deep-lem', 'Deep-stemming', 'Deep-contraction_expansion', 'Deep-number_removal', 'Deep-punctuation_removal', 'Deep-stopword_removal', 'Deep-pos_removal']\n",
      "['NB-None', 'NB-lem', 'NB-stemming', 'NB-contraction_expansion', 'NB-number_removal', 'NB-punctuation_removal', 'NB-stopword_removal', 'NB-pos_removal']\n"
     ]
    }
   ],
   "source": [
    "accuracies_dict = {'Deep-None': 0.799, 'Deep-lem': 0.804, 'Deep-stemming': 0.785, 'Deep-contraction_expansion': 0.493, 'Deep-number_removal': 0.772, 'Deep-punctuation_removal': 0.775, 'Deep-stopword_removal': 0.798, 'Deep-pos_removal': 0.791, 'NB-None': 0.776, 'NB-lem': 0.778, 'NB-stemming': 0.761, 'NB-contraction_expansion': 0.726, 'NB-number_removal': 0.776, 'NB-punctuation_removal': 0.782, \n",
    "'NB-stopword_removal': 0.776, 'NB-pos_removal': 0.776}\n",
    "\n",
    "results_dict = {'Deep-None': 0.8191, 'Deep-lem': 0.8192, 'Deep-stemming': 0.7661, 'Deep-contraction_expansion': 0.000, 'Deep-number_removal': 0.8010, 'Deep-punctuation_removal': 0.7417, 'Deep-stopword_removal': 0.7960, 'Deep-pos_removal': 0.7745, 'NB-None': 0.7769, 'NB-lem': 0.7776, 'NB-stemming': 0.7588, 'NB-contraction_expansion': 0.7122, 'NB-number_removal': 0.7773, 'NB-punctuation_removal': 0.7837, \n",
    "'NB-stopword_removal': 0.7769, 'NB-pos_removal': 0.7769}\n",
    "\n",
    "# iterate through the f1 scores and split based on the model\n",
    "deep_keys = []\n",
    "deep_values = []\n",
    "\n",
    "nb_keys = []\n",
    "nb_values = []\n",
    "\n",
    "for key, val in results_dict.items():\n",
    "    if key.startswith('Deep'):\n",
    "        deep_keys.append(key)\n",
    "        deep_values.append(val)\n",
    "    else:\n",
    "        nb_keys.append(key)\n",
    "        nb_values.append(val)\n",
    "print(deep_keys)\n",
    "print(nb_keys)\n"
   ]
  },
  {
   "cell_type": "code",
   "execution_count": 3,
   "metadata": {},
   "outputs": [
    {
     "data": {
      "image/png": "[encoded data removed]",
      "text/plain": [
       "<Figure size 432x288 with 1 Axes>"
      ]
     },
     "metadata": {
      "needs_background": "light"
     },
     "output_type": "display_data"
    }
   ],
   "source": [
    "import matplotlib.pyplot as plt\n",
    "\n",
    "fig = plt.figure()\n",
    "ax = fig.add_axes([0,0,1,1])\n",
    "ax.bar(nb_keys, nb_values)\n",
    "plt.xticks(rotation = 90)\n",
    "ax.set_ylim([0.7, 0.80])\n",
    "\n",
    "\n",
    "plt.xlabel('Preprocessing step') \n",
    "plt.ylabel('Accuracy') \n",
    "  \n",
    "# displaying the title\n",
    "plt.title(\"Naive Bayes Accuracies\")\n",
    "plt.show()"
   ]
  },
  {
   "cell_type": "code",
   "execution_count": 4,
   "metadata": {},
   "outputs": [
    {
     "data": {
      "image/png": "[encoded data removed]",
      "text/plain": [
       "<Figure size 432x288 with 1 Axes>"
      ]
     },
     "metadata": {
      "needs_background": "light"
     },
     "output_type": "display_data"
    }
   ],
   "source": [
    "import matplotlib.pyplot as plt\n",
    "\n",
    "fig = plt.figure()\n",
    "ax = fig.add_axes([0,0,1,1])\n",
    "ax.bar(deep_keys, deep_values)\n",
    "plt.xticks(rotation = 90)\n",
    "ax.set_ylim([0.7, 0.85])\n",
    "\n",
    "\n",
    "plt.xlabel('Preprocessing step') \n",
    "plt.ylabel('Accuracy') \n",
    "  \n",
    "# displaying the title\n",
    "plt.title(\"Deep Learning Accuracies\")\n",
    "plt.show()"
   ]
  },
  {
   "cell_type": "code",
   "execution_count": 5,
   "metadata": {},
   "outputs": [],
   "source": [
    "# average time of preprocessing step across each model\n",
    "preprocessing_time = {'None': 0, 'Lemmatization': 6.5165495, 'Stemming': 25.06, 'Contraction Expansion': 179.073, 'Number Removal': 0.0663, 'Punctuation Removal': 0.0718, 'Stopword Removal': 0.247, 'POS removal': 195.69}\n",
    "\n",
    "\n"
   ]
  },
  {
   "cell_type": "code",
   "execution_count": 6,
   "metadata": {},
   "outputs": [
    {
     "data": {
      "image/png": "[encoded data removed]",
      "text/plain": [
       "<Figure size 432x288 with 1 Axes>"
      ]
     },
     "metadata": {
      "needs_background": "light"
     },
     "output_type": "display_data"
    }
   ],
   "source": [
    "import matplotlib.pyplot as plt\n",
    "\n",
    "fig = plt.figure()\n",
    "ax = fig.add_axes([0,0,1,1])\n",
    "ax.bar(preprocessing_time.keys(), preprocessing_time.values())\n",
    "plt.xticks(rotation = 90)\n",
    "ax.set_ylim([0, 1])\n",
    "\n",
    "\n",
    "plt.xlabel('Preprocessing Step') \n",
    "plt.ylabel('Time') \n",
    "  \n",
    "# displaying the title\n",
    "plt.title(\"Preprocessing step time\")\n",
    "plt.show()"
   ]
  },
  {
   "cell_type": "code",
   "execution_count": 7,
   "metadata": {},
   "outputs": [
    {
     "data": {
      "image/png": "[encoded data removed]",
      "text/plain": [
       "<Figure size 432x288 with 1 Axes>"
      ]
     },
     "metadata": {
      "needs_background": "light"
     },
     "output_type": "display_data"
    }
   ],
   "source": [
    "import matplotlib.pyplot as plt\n",
    "\n",
    "fig = plt.figure()\n",
    "ax = fig.add_axes([0,0,1,1])\n",
    "ax.bar(preprocessing_time.keys(), preprocessing_time.values())\n",
    "plt.xticks(rotation = 90)\n",
    "# ax.set_ylim([0, 1])\n",
    "\n",
    "\n",
    "plt.xlabel('Preprocessing Step') \n",
    "plt.ylabel('Time') \n",
    "  \n",
    "# displaying the title\n",
    "plt.title(\"Preprocessing step time (zoomed out)\")\n",
    "plt.show()"
   ]
  },
  {
   "cell_type": "code",
   "execution_count": null,
   "metadata": {},
   "outputs": [],
   "source": []
  },
  {
   "cell_type": "code",
   "execution_count": null,
   "metadata": {},
   "outputs": [],
   "source": []
  }
 ],
 "metadata": {
  "kernelspec": {
   "display_name": "Python 3",
   "language": "python",
   "name": "python3"
  },
  "language_info": {
   "codemirror_mode": {
    "name": "ipython",
    "version": 3
   },
   "file_extension": ".py",
   "mimetype": "text/x-python",
   "name": "python",
   "nbconvert_exporter": "python",
   "pygments_lexer": "ipython3",
   "version": "3.7.6"
  }
 },
 "nbformat": 4,
 "nbformat_minor": 4
}
