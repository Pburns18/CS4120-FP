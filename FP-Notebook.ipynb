{
 "cells": [
  {
   "cell_type": "code",
   "execution_count": 1,
   "metadata": {},
   "outputs": [
    {
     "name": "stderr",
     "output_type": "stream",
     "text": [
      "[nltk_data] Downloading package stopwords to\n",
      "[nltk_data]     C:\\Users\\pburn\\AppData\\Roaming\\nltk_data...\n",
      "[nltk_data]   Package stopwords is already up-to-date!\n",
      "[nltk_data] Downloading package wordnet to\n",
      "[nltk_data]     C:\\Users\\pburn\\AppData\\Roaming\\nltk_data...\n",
      "[nltk_data]   Package wordnet is already up-to-date!\n",
      "[nltk_data] Downloading package omw-1.4 to\n",
      "[nltk_data]     C:\\Users\\pburn\\AppData\\Roaming\\nltk_data...\n",
      "[nltk_data]   Package omw-1.4 is already up-to-date!\n"
     ]
    }
   ],
   "source": [
    "import numpy as np\n",
    "import sys\n",
    "from collections import Counter\n",
    "import re\n",
    "import nltk\n",
    "import pandas as pd\n",
    "from nltk.corpus import stopwords\n",
    "import math\n",
    "from sklearn.model_selection import train_test_split\n",
    "from nltk.stem import WordNetLemmatizer\n",
    "from nltk.stem import PorterStemmer\n",
    "from nltk.tokenize import word_tokenize\n",
    "import contractions\n",
    "import re\n",
    "import spacy\n",
    "from spacy import displacy\n",
    "nltk.download('stopwords')\n",
    "nltk.download('wordnet')\n",
    "nltk.download('omw-1.4')\n",
    "from nltk.corpus import stopwords\n",
    "from textblob import TextBlob\n",
    "from sklearn.feature_extraction.text import TfidfVectorizer\n",
    "from sklearn.feature_extraction.text import CountVectorizer\n",
    "from sklearn.naive_bayes import MultinomialNB\n",
    "from sklearn.metrics import f1_score\n",
    "from sklearn.metrics import accuracy_score\n",
    "from sklearn.metrics import precision_score\n",
    "from sklearn.metrics import recall_score\n",
    "from sklearn.metrics import confusion_matrix, ConfusionMatrixDisplay\n",
    "from matplotlib import rcParams\n",
    "import matplotlib.pyplot as plt\n",
    "import seaborn as sns\n",
    "import time\n",
    "import keras\n",
    "from keras.models import Model\n",
    "from keras.layers import Input\n",
    "from keras import layers\n",
    "from keras.layers import Dense\n",
    "from keras.optimizers import SGD"
   ]
  },
  {
   "cell_type": "code",
   "execution_count": 2,
   "metadata": {},
   "outputs": [],
   "source": [
    "STOP_WORDS = set(stopwords.words('english'))\n",
    "NER = spacy.load(\"en_core_web_sm\")"
   ]
  },
  {
   "cell_type": "code",
   "execution_count": 3,
   "metadata": {},
   "outputs": [
    {
     "data": {
      "text/html": [
       "<div>\n",
       "<style scoped>\n",
       "    .dataframe tbody tr th:only-of-type {\n",
       "        vertical-align: middle;\n",
       "    }\n",
       "\n",
       "    .dataframe tbody tr th {\n",
       "        vertical-align: top;\n",
       "    }\n",
       "\n",
       "    .dataframe thead th {\n",
       "        text-align: right;\n",
       "    }\n",
       "</style>\n",
       "<table border=\"1\" class=\"dataframe\">\n",
       "  <thead>\n",
       "    <tr style=\"text-align: right;\">\n",
       "      <th></th>\n",
       "      <th>review_id</th>\n",
       "      <th>text</th>\n",
       "      <th>stars</th>\n",
       "    </tr>\n",
       "  </thead>\n",
       "  <tbody>\n",
       "    <tr>\n",
       "      <th>0</th>\n",
       "      <td>fWKvX83p0-ka4JS3dc6E5A</td>\n",
       "      <td>My wife took me here on my birthday for breakf...</td>\n",
       "      <td>5</td>\n",
       "    </tr>\n",
       "    <tr>\n",
       "      <th>1</th>\n",
       "      <td>IjZ33sJrzXqU-0X6U8NwyA</td>\n",
       "      <td>I have no idea why some people give bad review...</td>\n",
       "      <td>5</td>\n",
       "    </tr>\n",
       "    <tr>\n",
       "      <th>2</th>\n",
       "      <td>IESLBzqUCLdSzSqm0eCSxQ</td>\n",
       "      <td>love the gyro plate. Rice is so good and I als...</td>\n",
       "      <td>4</td>\n",
       "    </tr>\n",
       "    <tr>\n",
       "      <th>3</th>\n",
       "      <td>G-WvGaISbqqaMHlNnByodA</td>\n",
       "      <td>Rosie, Dakota, and I LOVE Chaparral Dog Park!!...</td>\n",
       "      <td>5</td>\n",
       "    </tr>\n",
       "    <tr>\n",
       "      <th>4</th>\n",
       "      <td>1uJFq2r5QfJG_6ExMRCaGw</td>\n",
       "      <td>General Manager Scott Petello is a good egg!!!...</td>\n",
       "      <td>5</td>\n",
       "    </tr>\n",
       "  </tbody>\n",
       "</table>\n",
       "</div>"
      ],
      "text/plain": [
       "                review_id                                               text  \\\n",
       "0  fWKvX83p0-ka4JS3dc6E5A  My wife took me here on my birthday for breakf...   \n",
       "1  IjZ33sJrzXqU-0X6U8NwyA  I have no idea why some people give bad review...   \n",
       "2  IESLBzqUCLdSzSqm0eCSxQ  love the gyro plate. Rice is so good and I als...   \n",
       "3  G-WvGaISbqqaMHlNnByodA  Rosie, Dakota, and I LOVE Chaparral Dog Park!!...   \n",
       "4  1uJFq2r5QfJG_6ExMRCaGw  General Manager Scott Petello is a good egg!!!...   \n",
       "\n",
       "  stars  \n",
       "0     5  \n",
       "1     5  \n",
       "2     4  \n",
       "3     5  \n",
       "4     5  "
      ]
     },
     "execution_count": 3,
     "metadata": {},
     "output_type": "execute_result"
    }
   ],
   "source": [
    "# Reading in dataset\n",
    "yelp_df = pd.read_csv(\"yelp.csv\")\n",
    "yelp_df = yelp_df[['review_id', 'text', 'stars']]\n",
    "yelp_df['stars'] = yelp_df['stars'].apply(str)\n",
    "yelp_df.head()"
   ]
  },
  {
   "cell_type": "code",
   "execution_count": 4,
   "metadata": {},
   "outputs": [
    {
     "data": {
      "text/html": [
       "<div>\n",
       "<style scoped>\n",
       "    .dataframe tbody tr th:only-of-type {\n",
       "        vertical-align: middle;\n",
       "    }\n",
       "\n",
       "    .dataframe tbody tr th {\n",
       "        vertical-align: top;\n",
       "    }\n",
       "\n",
       "    .dataframe thead th {\n",
       "        text-align: right;\n",
       "    }\n",
       "</style>\n",
       "<table border=\"1\" class=\"dataframe\">\n",
       "  <thead>\n",
       "    <tr style=\"text-align: right;\">\n",
       "      <th></th>\n",
       "      <th>text</th>\n",
       "      <th>label</th>\n",
       "    </tr>\n",
       "  </thead>\n",
       "  <tbody>\n",
       "    <tr>\n",
       "      <th>0</th>\n",
       "      <td>I grew up (b. 1965) watching and loving the Th...</td>\n",
       "      <td>0</td>\n",
       "    </tr>\n",
       "    <tr>\n",
       "      <th>1</th>\n",
       "      <td>When I put this movie in my DVD player, and sa...</td>\n",
       "      <td>0</td>\n",
       "    </tr>\n",
       "    <tr>\n",
       "      <th>2</th>\n",
       "      <td>Why do people who do not know what a particula...</td>\n",
       "      <td>0</td>\n",
       "    </tr>\n",
       "    <tr>\n",
       "      <th>3</th>\n",
       "      <td>Even though I have great interest in Biblical ...</td>\n",
       "      <td>0</td>\n",
       "    </tr>\n",
       "    <tr>\n",
       "      <th>4</th>\n",
       "      <td>Im a die hard Dads Army fan and nothing will e...</td>\n",
       "      <td>1</td>\n",
       "    </tr>\n",
       "  </tbody>\n",
       "</table>\n",
       "</div>"
      ],
      "text/plain": [
       "                                                text  label\n",
       "0  I grew up (b. 1965) watching and loving the Th...      0\n",
       "1  When I put this movie in my DVD player, and sa...      0\n",
       "2  Why do people who do not know what a particula...      0\n",
       "3  Even though I have great interest in Biblical ...      0\n",
       "4  Im a die hard Dads Army fan and nothing will e...      1"
      ]
     },
     "execution_count": 4,
     "metadata": {},
     "output_type": "execute_result"
    }
   ],
   "source": [
    "# Reading in dataset\n",
    "movie_df = pd.read_csv(\"movie.csv\")\n",
    "movie_df.head()\n",
    "movie_df = movie_df[['text', 'label']]\n",
    "# yelp_df['stars'] = yelp_df['stars'].apply(str)\n",
    "movie_df.head()\n"
   ]
  },
  {
   "cell_type": "code",
   "execution_count": 5,
   "metadata": {},
   "outputs": [],
   "source": [
    "def apply_space_tokenization(text):\n",
    "    new_text = text.split(' ')\n",
    "    return new_text\n",
    "\n",
    "def apply_lowercase(text):\n",
    "    new_text = text.lower()\n",
    "    return new_text"
   ]
  },
  {
   "cell_type": "code",
   "execution_count": 6,
   "metadata": {},
   "outputs": [
    {
     "data": {
      "text/html": [
       "<div>\n",
       "<style scoped>\n",
       "    .dataframe tbody tr th:only-of-type {\n",
       "        vertical-align: middle;\n",
       "    }\n",
       "\n",
       "    .dataframe tbody tr th {\n",
       "        vertical-align: top;\n",
       "    }\n",
       "\n",
       "    .dataframe thead th {\n",
       "        text-align: right;\n",
       "    }\n",
       "</style>\n",
       "<table border=\"1\" class=\"dataframe\">\n",
       "  <thead>\n",
       "    <tr style=\"text-align: right;\">\n",
       "      <th></th>\n",
       "      <th>review_id</th>\n",
       "      <th>text</th>\n",
       "      <th>stars</th>\n",
       "    </tr>\n",
       "  </thead>\n",
       "  <tbody>\n",
       "    <tr>\n",
       "      <th>0</th>\n",
       "      <td>fWKvX83p0-ka4JS3dc6E5A</td>\n",
       "      <td>my wife took me here on my birthday for breakf...</td>\n",
       "      <td>5</td>\n",
       "    </tr>\n",
       "    <tr>\n",
       "      <th>1</th>\n",
       "      <td>IjZ33sJrzXqU-0X6U8NwyA</td>\n",
       "      <td>i have no idea why some people give bad review...</td>\n",
       "      <td>5</td>\n",
       "    </tr>\n",
       "    <tr>\n",
       "      <th>2</th>\n",
       "      <td>IESLBzqUCLdSzSqm0eCSxQ</td>\n",
       "      <td>love the gyro plate. rice is so good and i als...</td>\n",
       "      <td>4</td>\n",
       "    </tr>\n",
       "    <tr>\n",
       "      <th>3</th>\n",
       "      <td>G-WvGaISbqqaMHlNnByodA</td>\n",
       "      <td>rosie, dakota, and i love chaparral dog park!!...</td>\n",
       "      <td>5</td>\n",
       "    </tr>\n",
       "    <tr>\n",
       "      <th>4</th>\n",
       "      <td>1uJFq2r5QfJG_6ExMRCaGw</td>\n",
       "      <td>general manager scott petello is a good egg!!!...</td>\n",
       "      <td>5</td>\n",
       "    </tr>\n",
       "    <tr>\n",
       "      <th>...</th>\n",
       "      <td>...</td>\n",
       "      <td>...</td>\n",
       "      <td>...</td>\n",
       "    </tr>\n",
       "    <tr>\n",
       "      <th>9995</th>\n",
       "      <td>Ubyfp2RSDYW0g7Mbr8N3iA</td>\n",
       "      <td>first visit...had lunch here today - used my g...</td>\n",
       "      <td>3</td>\n",
       "    </tr>\n",
       "    <tr>\n",
       "      <th>9996</th>\n",
       "      <td>2XyIOQKbVFb6uXQdJ0RzlQ</td>\n",
       "      <td>should be called house of deliciousness!\\n\\ni ...</td>\n",
       "      <td>4</td>\n",
       "    </tr>\n",
       "    <tr>\n",
       "      <th>9997</th>\n",
       "      <td>jyznYkIbpqVmlsZxSDSypA</td>\n",
       "      <td>i recently visited olive and ivy for business ...</td>\n",
       "      <td>4</td>\n",
       "    </tr>\n",
       "    <tr>\n",
       "      <th>9998</th>\n",
       "      <td>5UKq9WQE1qQbJ0DJbc-B6Q</td>\n",
       "      <td>my nephew just moved to scottsdale recently so...</td>\n",
       "      <td>2</td>\n",
       "    </tr>\n",
       "    <tr>\n",
       "      <th>9999</th>\n",
       "      <td>vWSmOhg2ID1MNZHaWapGbA</td>\n",
       "      <td>4-5 locations.. all 4.5 star average.. i think...</td>\n",
       "      <td>5</td>\n",
       "    </tr>\n",
       "  </tbody>\n",
       "</table>\n",
       "<p>10000 rows × 3 columns</p>\n",
       "</div>"
      ],
      "text/plain": [
       "                   review_id  \\\n",
       "0     fWKvX83p0-ka4JS3dc6E5A   \n",
       "1     IjZ33sJrzXqU-0X6U8NwyA   \n",
       "2     IESLBzqUCLdSzSqm0eCSxQ   \n",
       "3     G-WvGaISbqqaMHlNnByodA   \n",
       "4     1uJFq2r5QfJG_6ExMRCaGw   \n",
       "...                      ...   \n",
       "9995  Ubyfp2RSDYW0g7Mbr8N3iA   \n",
       "9996  2XyIOQKbVFb6uXQdJ0RzlQ   \n",
       "9997  jyznYkIbpqVmlsZxSDSypA   \n",
       "9998  5UKq9WQE1qQbJ0DJbc-B6Q   \n",
       "9999  vWSmOhg2ID1MNZHaWapGbA   \n",
       "\n",
       "                                                   text stars  \n",
       "0     my wife took me here on my birthday for breakf...     5  \n",
       "1     i have no idea why some people give bad review...     5  \n",
       "2     love the gyro plate. rice is so good and i als...     4  \n",
       "3     rosie, dakota, and i love chaparral dog park!!...     5  \n",
       "4     general manager scott petello is a good egg!!!...     5  \n",
       "...                                                 ...   ...  \n",
       "9995  first visit...had lunch here today - used my g...     3  \n",
       "9996  should be called house of deliciousness!\\n\\ni ...     4  \n",
       "9997  i recently visited olive and ivy for business ...     4  \n",
       "9998  my nephew just moved to scottsdale recently so...     2  \n",
       "9999  4-5 locations.. all 4.5 star average.. i think...     5  \n",
       "\n",
       "[10000 rows x 3 columns]"
      ]
     },
     "execution_count": 6,
     "metadata": {},
     "output_type": "execute_result"
    }
   ],
   "source": [
    "yelp_df['text'] = yelp_df['text'].apply(apply_lowercase)\n",
    "#yelp_df['text'] = yelp_df['text'].apply(apply_space_tokenization)\n",
    "yelp_df"
   ]
  },
  {
   "cell_type": "code",
   "execution_count": 7,
   "metadata": {},
   "outputs": [
    {
     "data": {
      "text/html": [
       "<div>\n",
       "<style scoped>\n",
       "    .dataframe tbody tr th:only-of-type {\n",
       "        vertical-align: middle;\n",
       "    }\n",
       "\n",
       "    .dataframe tbody tr th {\n",
       "        vertical-align: top;\n",
       "    }\n",
       "\n",
       "    .dataframe thead th {\n",
       "        text-align: right;\n",
       "    }\n",
       "</style>\n",
       "<table border=\"1\" class=\"dataframe\">\n",
       "  <thead>\n",
       "    <tr style=\"text-align: right;\">\n",
       "      <th></th>\n",
       "      <th>text</th>\n",
       "      <th>label</th>\n",
       "    </tr>\n",
       "  </thead>\n",
       "  <tbody>\n",
       "    <tr>\n",
       "      <th>0</th>\n",
       "      <td>i grew up (b. 1965) watching and loving the th...</td>\n",
       "      <td>0</td>\n",
       "    </tr>\n",
       "    <tr>\n",
       "      <th>1</th>\n",
       "      <td>when i put this movie in my dvd player, and sa...</td>\n",
       "      <td>0</td>\n",
       "    </tr>\n",
       "    <tr>\n",
       "      <th>2</th>\n",
       "      <td>why do people who do not know what a particula...</td>\n",
       "      <td>0</td>\n",
       "    </tr>\n",
       "    <tr>\n",
       "      <th>3</th>\n",
       "      <td>even though i have great interest in biblical ...</td>\n",
       "      <td>0</td>\n",
       "    </tr>\n",
       "    <tr>\n",
       "      <th>4</th>\n",
       "      <td>im a die hard dads army fan and nothing will e...</td>\n",
       "      <td>1</td>\n",
       "    </tr>\n",
       "    <tr>\n",
       "      <th>...</th>\n",
       "      <td>...</td>\n",
       "      <td>...</td>\n",
       "    </tr>\n",
       "    <tr>\n",
       "      <th>995</th>\n",
       "      <td>oh, this is so bad, it is funny. the only way ...</td>\n",
       "      <td>0</td>\n",
       "    </tr>\n",
       "    <tr>\n",
       "      <th>996</th>\n",
       "      <td>i couldn't believe this terrible movie was act...</td>\n",
       "      <td>0</td>\n",
       "    </tr>\n",
       "    <tr>\n",
       "      <th>997</th>\n",
       "      <td>even though i am slightly older than the recom...</td>\n",
       "      <td>1</td>\n",
       "    </tr>\n",
       "    <tr>\n",
       "      <th>998</th>\n",
       "      <td>reading web sites on bette davis one can find ...</td>\n",
       "      <td>1</td>\n",
       "    </tr>\n",
       "    <tr>\n",
       "      <th>999</th>\n",
       "      <td>...but i regret having seen it. since the rati...</td>\n",
       "      <td>0</td>\n",
       "    </tr>\n",
       "  </tbody>\n",
       "</table>\n",
       "<p>1000 rows × 2 columns</p>\n",
       "</div>"
      ],
      "text/plain": [
       "                                                  text  label\n",
       "0    i grew up (b. 1965) watching and loving the th...      0\n",
       "1    when i put this movie in my dvd player, and sa...      0\n",
       "2    why do people who do not know what a particula...      0\n",
       "3    even though i have great interest in biblical ...      0\n",
       "4    im a die hard dads army fan and nothing will e...      1\n",
       "..                                                 ...    ...\n",
       "995  oh, this is so bad, it is funny. the only way ...      0\n",
       "996  i couldn't believe this terrible movie was act...      0\n",
       "997  even though i am slightly older than the recom...      1\n",
       "998  reading web sites on bette davis one can find ...      1\n",
       "999  ...but i regret having seen it. since the rati...      0\n",
       "\n",
       "[1000 rows x 2 columns]"
      ]
     },
     "execution_count": 7,
     "metadata": {},
     "output_type": "execute_result"
    }
   ],
   "source": [
    "movie_df['text'] = movie_df['text'].apply(apply_lowercase)\n",
    "#yelp_df['text'] = yelp_df['text'].apply(apply_space_tokenization)\n",
    "movie_df = movie_df[0:1000]\n",
    "movie_df"
   ]
  },
  {
   "cell_type": "markdown",
   "metadata": {},
   "source": [
    "# Preprocessing Expirements\n",
    "#### Potentially we do some constants throughout our experiments? I.e Tokenize just by spaces, and lowecase all"
   ]
  },
  {
   "cell_type": "markdown",
   "metadata": {},
   "source": [
    "### No Pre-Processing"
   ]
  },
  {
   "cell_type": "code",
   "execution_count": null,
   "metadata": {},
   "outputs": [],
   "source": []
  },
  {
   "cell_type": "markdown",
   "metadata": {},
   "source": [
    "### Lemanization"
   ]
  },
  {
   "cell_type": "code",
   "execution_count": 8,
   "metadata": {},
   "outputs": [],
   "source": [
    "def apply_lem(text):\n",
    "    lem = WordNetLemmatizer()\n",
    "    new_text = []\n",
    "    for word in text.split(' '):\n",
    "        new_word = lem.lemmatize(word)\n",
    "        new_text.append(new_word)\n",
    "    review = ' '.join(new_text)\n",
    "    return review"
   ]
  },
  {
   "cell_type": "markdown",
   "metadata": {},
   "source": [
    "### Stemming"
   ]
  },
  {
   "cell_type": "code",
   "execution_count": 9,
   "metadata": {},
   "outputs": [],
   "source": [
    "def apply_stemming(text):\n",
    "    ps = PorterStemmer()\n",
    "    new_text = []\n",
    "    for word in text.split(' '):\n",
    "        new_word = ps.stem(word)\n",
    "        new_text.append(new_word)\n",
    "    review = ' '.join(new_text)\n",
    "    return review"
   ]
  },
  {
   "cell_type": "markdown",
   "metadata": {},
   "source": [
    "### Contraction expansion"
   ]
  },
  {
   "cell_type": "code",
   "execution_count": 10,
   "metadata": {},
   "outputs": [],
   "source": [
    "def apply_contraction_expansion(text):\n",
    "    new_text = []\n",
    "    for word in text.split(' '):\n",
    "        new_word = contractions.fix(text)\n",
    "        new_text.append(new_word)\n",
    "    review = ' '.join(new_text)\n",
    "    return review"
   ]
  },
  {
   "cell_type": "markdown",
   "metadata": {},
   "source": [
    "### Removing Number related text"
   ]
  },
  {
   "cell_type": "code",
   "execution_count": 11,
   "metadata": {},
   "outputs": [],
   "source": [
    "def apply_number_removal(text):\n",
    "    review = re.sub(r'[0-9]', '', text)\n",
    "    return review"
   ]
  },
  {
   "cell_type": "markdown",
   "metadata": {},
   "source": [
    "### Punctuation Removal"
   ]
  },
  {
   "cell_type": "code",
   "execution_count": 12,
   "metadata": {},
   "outputs": [],
   "source": [
    "def apply_punctuation_removal(text):\n",
    "    review = re.sub(r'[.,!?-_;:&#$@%=+]', '', text)\n",
    "    return review"
   ]
  },
  {
   "cell_type": "markdown",
   "metadata": {},
   "source": [
    "### Stopword Removal"
   ]
  },
  {
   "cell_type": "code",
   "execution_count": 13,
   "metadata": {},
   "outputs": [],
   "source": [
    "def apply_stopword_removal(text):\n",
    "    new_text = []\n",
    "    for word in text.split(' '):\n",
    "        if text in STOP_WORDS:\n",
    "            continue\n",
    "        else:\n",
    "            new_text.append(word)\n",
    "    review = ' '.join(new_text)\n",
    "    return review"
   ]
  },
  {
   "cell_type": "markdown",
   "metadata": {},
   "source": [
    "### Spell Check Removal"
   ]
  },
  {
   "cell_type": "code",
   "execution_count": 14,
   "metadata": {},
   "outputs": [],
   "source": [
    "def apply_spelling_correction(text):\n",
    "    textBlb = TextBlob(text)\n",
    "    textCorrected = textBlb.correct() \n",
    "    return textCorrected"
   ]
  },
  {
   "cell_type": "markdown",
   "metadata": {},
   "source": [
    "### NER AND POS TAGGING"
   ]
  },
  {
   "cell_type": "code",
   "execution_count": 15,
   "metadata": {},
   "outputs": [],
   "source": [
    "def apply_spacy(text):\n",
    "    applied_text = NER(text)\n",
    "    return applied_text.text\n",
    "\n",
    "\n",
    "def get_pos(spacy_text):\n",
    "    new_sentence = []\n",
    "    excluded_tags = {\"NOUN\", \"PRON\", \"PROPN\", \"DET\", \"ADP\", \"PUNCT\",}\n",
    "    for word in spacy_text:\n",
    "        if word.pos_ not in excluded_tags:\n",
    "            new_sentence.append(word.text)\n",
    "    review = ' '.join(new_sentence)\n",
    "    return review\n",
    "\n",
    "# def get_ner(spacy_text):\n",
    "#     for word in spacy_text:\n",
    "        \n",
    "#         print(word.text, word.label_)\n",
    "        \n",
    "# to return the labels\n",
    "# spacy_words = apply_spacy(\"I honestly hated the play, it was so boring\")   \n",
    "# get_pos(spacy_words)\n",
    "\n",
    "# for word in spacy_words.ents:\n",
    "#     print(word.text,word.label_)\n",
    "\n",
    "\n"
   ]
  },
  {
   "cell_type": "markdown",
   "metadata": {},
   "source": [
    "### Removing Certain P.O.S"
   ]
  },
  {
   "cell_type": "code",
   "execution_count": null,
   "metadata": {},
   "outputs": [],
   "source": []
  },
  {
   "cell_type": "markdown",
   "metadata": {},
   "source": [
    "### Pre-Processing Combination\n",
    "#### Perhaps we run experiments with random combinations of all methods and see best performance"
   ]
  },
  {
   "cell_type": "code",
   "execution_count": null,
   "metadata": {},
   "outputs": [],
   "source": []
  },
  {
   "cell_type": "markdown",
   "metadata": {},
   "source": [
    "# Model Creation & Test Execution"
   ]
  },
  {
   "cell_type": "code",
   "execution_count": 16,
   "metadata": {},
   "outputs": [],
   "source": [
    "def report_metrics(gold_labels, predicted_labels, name, clf):\n",
    "    labels = [0, 1]\n",
    "    # Reporting metrics & confusion matrix\n",
    "    acc = round(accuracy_score(gold_labels, predicted_labels), 4)\n",
    "    err = round(1 - acc, 4)\n",
    "    pre = round(precision_score(gold_labels, predicted_labels), 4)\n",
    "    rec = round(recall_score(gold_labels, predicted_labels), 4)\n",
    "    f1 = round(f1_score(gold_labels, predicted_labels), 4)\n",
    "\n",
    "    print(\"Accuracy: \", acc)\n",
    "    print(\"Error: \", err)\n",
    "    print(\"Precision: \", pre)\n",
    "    print(\"Recall: \", rec)\n",
    "    print(\"F1-Score: \", f1)\n",
    "\n",
    "    cf_matrix = confusion_matrix(gold_labels, predicted_labels, labels=labels)\n",
    "    rcParams['figure.figsize'] = (6, 4)\n",
    "    sns.heatmap(cf_matrix, annot=True, cmap=\"Greens\", xticklabels=labels, yticklabels=labels, fmt='g')\n",
    "    plt.title(name)\n",
    "    plt.ylabel(\"True Labels\")\n",
    "    plt.xlabel(\"Predicted Labels\")\n",
    "    plt.show()\n",
    "    \n",
    "    return acc, err, pre, rec, f1"
   ]
  },
  {
   "cell_type": "code",
   "execution_count": 17,
   "metadata": {},
   "outputs": [],
   "source": [
    "def setup_experiment(text, labels, pre_processing_step):\n",
    "    # Creating a corpus (list of documents)\n",
    "    start_time = time.time()\n",
    "    corpus = list((map(pre_processing_step, text)))\n",
    "    end_time = time.time()\n",
    "    print(end_time-start_time)\n",
    "    \n",
    "    # Using BOW representation\n",
    "    vectorizer = CountVectorizer(max_features=500)\n",
    "    \n",
    "    X = vectorizer.fit_transform(corpus).toarray()\n",
    "    y = labels\n",
    "    \n",
    "    return X, y, end_time - start_time"
   ]
  },
  {
   "cell_type": "code",
   "execution_count": 18,
   "metadata": {},
   "outputs": [],
   "source": [
    "def run_experiment(X, y, model_name, time):\n",
    "    X_train, X_test, y_train, y_test = train_test_split(X, y, test_size=0.2, random_state=18)\n",
    "    \n",
    "    if model_name == 'NB':\n",
    "        model = MultinomialNB()\n",
    "        # Running experiment\n",
    "        model.fit(X_train, y_train)\n",
    "    \n",
    "        # Make predictions\n",
    "        predictions = model.predict(X_test)\n",
    "        \n",
    "        # Calculating metrics\n",
    "        acc, err, pre, rec, f1 = report_metrics(y_test, predictions, model_name, model)\n",
    "        \n",
    "        return acc, err, pre, rec, f1, time\n",
    "    \n",
    "    elif model_name == 'Deep':\n",
    "        model = keras.Sequential([\n",
    "        layers.Dense(400, activation=\"relu\"),\n",
    "        layers.Dense(400, activation=\"relu\"),\n",
    "        layers.Dense(200, activation=\"relu\"),\n",
    "        layers.Dense(1, activation=\"sigmoid\")])\n",
    "        model.compile(loss='binary_crossentropy', optimizer=SGD(lr=0.01, momentum=0.9), metrics=['accuracy'])\n",
    "        \n",
    "        # Running experiment\n",
    "        model.fit(X_train, y_train, epochs=10, batch_size=100, verbose=1)\n",
    "        \n",
    "        # Make predictions\n",
    "        predictions = model.predict_classes(X_test)\n",
    "        \n",
    "        # Calculating metrics\n",
    "        acc, err, pre, rec, f1 = report_metrics(y_test, predictions, model_name, model)\n",
    "        \n",
    "        return acc, err, pre, rec, f1, time\n",
    "    else:\n",
    "        pass"
   ]
  },
  {
   "cell_type": "code",
   "execution_count": 20,
   "metadata": {},
   "outputs": [
    {
     "name": "stdout",
     "output_type": "stream",
     "text": [
      "lem\n",
      "1.2247662544250488\n",
      "Epoch 1/10\n",
      "8/8 [==============================] - 0s 2ms/step - loss: 0.7013 - accuracy: 0.5525\n",
      "Epoch 2/10\n",
      "8/8 [==============================] - 0s 2ms/step - loss: 0.6115 - accuracy: 0.6538\n",
      "Epoch 3/10\n",
      "8/8 [==============================] - 0s 3ms/step - loss: 0.5751 - accuracy: 0.7075\n",
      "Epoch 4/10\n",
      "8/8 [==============================] - 0s 3ms/step - loss: 0.5112 - accuracy: 0.7525\n",
      "Epoch 5/10\n",
      "8/8 [==============================] - 0s 3ms/step - loss: 0.4627 - accuracy: 0.7812\n",
      "Epoch 6/10\n",
      "8/8 [==============================] - 0s 3ms/step - loss: 0.4432 - accuracy: 0.7950\n",
      "Epoch 7/10\n",
      "8/8 [==============================] - 0s 3ms/step - loss: 0.4228 - accuracy: 0.8037\n",
      "Epoch 8/10\n",
      "8/8 [==============================] - 0s 3ms/step - loss: 0.3502 - accuracy: 0.8700\n",
      "Epoch 9/10\n",
      "8/8 [==============================] - 0s 3ms/step - loss: 0.2984 - accuracy: 0.8950\n",
      "Epoch 10/10\n",
      "8/8 [==============================] - 0s 3ms/step - loss: 0.2886 - accuracy: 0.8850\n",
      "Accuracy:  0.665\n",
      "Error:  0.335\n",
      "Precision:  0.6711\n",
      "Recall:  0.5484\n",
      "F1-Score:  0.6036\n"
     ]
    },
    {
     "data": {
      "image/png": "[encoded data removed]",
      "text/plain": [
       "<Figure size 432x288 with 2 Axes>"
      ]
     },
     "metadata": {
      "needs_background": "light"
     },
     "output_type": "display_data"
    },
    {
     "name": "stdout",
     "output_type": "stream",
     "text": [
      "stemming\n",
      "5.304919242858887\n",
      "Epoch 1/10\n",
      "8/8 [==============================] - 0s 2ms/step - loss: 0.6923 - accuracy: 0.5512\n",
      "Epoch 2/10\n",
      "8/8 [==============================] - 0s 2ms/step - loss: 0.6261 - accuracy: 0.6612\n",
      "Epoch 3/10\n",
      "8/8 [==============================] - 0s 2ms/step - loss: 0.5715 - accuracy: 0.6975\n",
      "Epoch 4/10\n",
      "8/8 [==============================] - 0s 3ms/step - loss: 0.5218 - accuracy: 0.7437\n",
      "Epoch 5/10\n",
      "8/8 [==============================] - 0s 3ms/step - loss: 0.4648 - accuracy: 0.7975\n",
      "Epoch 6/10\n",
      "8/8 [==============================] - 0s 3ms/step - loss: 0.5000 - accuracy: 0.7588\n",
      "Epoch 7/10\n",
      "8/8 [==============================] - 0s 3ms/step - loss: 0.6322 - accuracy: 0.7075\n",
      "Epoch 8/10\n",
      "8/8 [==============================] - 0s 3ms/step - loss: 0.5313 - accuracy: 0.7462\n",
      "Epoch 9/10\n",
      "8/8 [==============================] - 0s 3ms/step - loss: 0.4443 - accuracy: 0.8288\n",
      "Epoch 10/10\n",
      "8/8 [==============================] - 0s 3ms/step - loss: 0.3760 - accuracy: 0.8500\n",
      "Accuracy:  0.635\n",
      "Error:  0.365\n",
      "Precision:  0.5877\n",
      "Recall:  0.7204\n",
      "F1-Score:  0.6473\n"
     ]
    },
    {
     "data": {
      "image/png": "[encoded data removed]",
      "text/plain": [
       "<Figure size 432x288 with 2 Axes>"
      ]
     },
     "metadata": {
      "needs_background": "light"
     },
     "output_type": "display_data"
    },
    {
     "name": "stdout",
     "output_type": "stream",
     "text": [
      "contraction_expansion\n",
      "41.38848376274109\n",
      "Epoch 1/10\n",
      "8/8 [==============================] - 0s 2ms/step - loss: nan - accuracy: 0.4725 \n",
      "Epoch 2/10\n",
      "8/8 [==============================] - 0s 2ms/step - loss: nan - accuracy: 0.5188\n",
      "Epoch 3/10\n",
      "8/8 [==============================] - 0s 3ms/step - loss: nan - accuracy: 0.5188\n",
      "Epoch 4/10\n",
      "8/8 [==============================] - 0s 2ms/step - loss: nan - accuracy: 0.5188\n",
      "Epoch 5/10\n",
      "8/8 [==============================] - 0s 3ms/step - loss: nan - accuracy: 0.5188\n",
      "Epoch 6/10\n",
      "8/8 [==============================] - 0s 3ms/step - loss: nan - accuracy: 0.5188\n",
      "Epoch 7/10\n",
      "8/8 [==============================] - 0s 3ms/step - loss: nan - accuracy: 0.5188\n",
      "Epoch 8/10\n",
      "8/8 [==============================] - 0s 3ms/step - loss: nan - accuracy: 0.5188\n",
      "Epoch 9/10\n",
      "8/8 [==============================] - 0s 3ms/step - loss: nan - accuracy: 0.5188\n",
      "Epoch 10/10\n",
      "8/8 [==============================] - 0s 3ms/step - loss: nan - accuracy: 0.5188\n",
      "Accuracy:  0.535\n",
      "Error:  0.465\n",
      "Precision:  0.0\n",
      "Recall:  0.0\n",
      "F1-Score:  0.0\n"
     ]
    },
    {
     "data": {
      "image/png": "[encoded data removed]",
      "text/plain": [
       "<Figure size 432x288 with 2 Axes>"
      ]
     },
     "metadata": {
      "needs_background": "light"
     },
     "output_type": "display_data"
    },
    {
     "name": "stdout",
     "output_type": "stream",
     "text": [
      "number_removal\n",
      "0.01296377182006836\n",
      "Epoch 1/10\n",
      "8/8 [==============================] - 0s 2ms/step - loss: 0.7197 - accuracy: 0.5437\n",
      "Epoch 2/10\n",
      "8/8 [==============================] - 0s 2ms/step - loss: 0.6301 - accuracy: 0.6438\n",
      "Epoch 3/10\n",
      "8/8 [==============================] - 0s 2ms/step - loss: 0.5890 - accuracy: 0.6913\n",
      "Epoch 4/10\n",
      "8/8 [==============================] - 0s 2ms/step - loss: 0.5615 - accuracy: 0.7300\n",
      "Epoch 5/10\n",
      "8/8 [==============================] - 0s 3ms/step - loss: 0.5039 - accuracy: 0.7887\n",
      "Epoch 6/10\n",
      "8/8 [==============================] - 0s 2ms/step - loss: 0.4505 - accuracy: 0.8087\n",
      "Epoch 7/10\n",
      "8/8 [==============================] - 0s 2ms/step - loss: 0.4228 - accuracy: 0.8075\n",
      "Epoch 8/10\n",
      "8/8 [==============================] - 0s 3ms/step - loss: 0.3789 - accuracy: 0.8425\n",
      "Epoch 9/10\n",
      "8/8 [==============================] - 0s 3ms/step - loss: 0.3558 - accuracy: 0.8562\n",
      "Epoch 10/10\n",
      "8/8 [==============================] - 0s 3ms/step - loss: 0.3997 - accuracy: 0.8313\n",
      "Accuracy:  0.605\n",
      "Error:  0.395\n",
      "Precision:  0.5467\n",
      "Recall:  0.8817\n",
      "F1-Score:  0.6749\n"
     ]
    },
    {
     "data": {
      "image/png": "[encoded data removed]",
      "text/plain": [
       "<Figure size 432x288 with 2 Axes>"
      ]
     },
     "metadata": {
      "needs_background": "light"
     },
     "output_type": "display_data"
    },
    {
     "name": "stdout",
     "output_type": "stream",
     "text": [
      "punctuation_removal\n",
      "0.01748967170715332\n",
      "Epoch 1/10\n",
      "8/8 [==============================] - 0s 3ms/step - loss: 0.6799 - accuracy: 0.5612\n",
      "Epoch 2/10\n",
      "8/8 [==============================] - 0s 2ms/step - loss: 0.6533 - accuracy: 0.6275\n",
      "Epoch 3/10\n",
      "8/8 [==============================] - 0s 2ms/step - loss: 0.6491 - accuracy: 0.6325\n",
      "Epoch 4/10\n",
      "8/8 [==============================] - 0s 2ms/step - loss: 0.6431 - accuracy: 0.6475\n",
      "Epoch 5/10\n",
      "8/8 [==============================] - 0s 3ms/step - loss: 0.6060 - accuracy: 0.6825\n",
      "Epoch 6/10\n",
      "8/8 [==============================] - 0s 2ms/step - loss: 0.5816 - accuracy: 0.6925\n",
      "Epoch 7/10\n",
      "8/8 [==============================] - 0s 3ms/step - loss: 0.5164 - accuracy: 0.7450\n",
      "Epoch 8/10\n",
      "8/8 [==============================] - 0s 3ms/step - loss: 0.5095 - accuracy: 0.7538\n",
      "Epoch 9/10\n",
      "8/8 [==============================] - 0s 3ms/step - loss: 0.4666 - accuracy: 0.7987\n",
      "Epoch 10/10\n",
      "8/8 [==============================] - 0s 3ms/step - loss: 0.4323 - accuracy: 0.8200\n",
      "Accuracy:  0.64\n",
      "Error:  0.36\n",
      "Precision:  0.678\n",
      "Recall:  0.4301\n",
      "F1-Score:  0.5263\n"
     ]
    },
    {
     "data": {
      "image/png": "[encoded data removed]",
      "text/plain": [
       "<Figure size 432x288 with 2 Axes>"
      ]
     },
     "metadata": {
      "needs_background": "light"
     },
     "output_type": "display_data"
    },
    {
     "name": "stdout",
     "output_type": "stream",
     "text": [
      "stopword_removal\n",
      "0.05186152458190918\n",
      "Epoch 1/10\n",
      "8/8 [==============================] - 0s 2ms/step - loss: 0.7043 - accuracy: 0.5150\n",
      "Epoch 2/10\n",
      "8/8 [==============================] - 0s 2ms/step - loss: 0.6780 - accuracy: 0.5763\n",
      "Epoch 3/10\n",
      "8/8 [==============================] - 0s 3ms/step - loss: 0.6290 - accuracy: 0.6438\n",
      "Epoch 4/10\n",
      "8/8 [==============================] - 0s 2ms/step - loss: 0.5926 - accuracy: 0.6775\n",
      "Epoch 5/10\n",
      "8/8 [==============================] - 0s 3ms/step - loss: 0.5399 - accuracy: 0.7663\n",
      "Epoch 6/10\n",
      "8/8 [==============================] - 0s 2ms/step - loss: 0.4985 - accuracy: 0.7775\n",
      "Epoch 7/10\n",
      "8/8 [==============================] - 0s 3ms/step - loss: 0.4855 - accuracy: 0.7925\n",
      "Epoch 8/10\n",
      "8/8 [==============================] - 0s 3ms/step - loss: 0.4707 - accuracy: 0.8000\n",
      "Epoch 9/10\n",
      "8/8 [==============================] - 0s 3ms/step - loss: 0.4550 - accuracy: 0.8163\n",
      "Epoch 10/10\n",
      "8/8 [==============================] - 0s 3ms/step - loss: 0.4058 - accuracy: 0.8288\n",
      "Accuracy:  0.645\n",
      "Error:  0.355\n",
      "Precision:  0.6964\n",
      "Recall:  0.4194\n",
      "F1-Score:  0.5235\n"
     ]
    },
    {
     "data": {
      "image/png": "[encoded data removed]",
      "text/plain": [
       "<Figure size 432x288 with 2 Axes>"
      ]
     },
     "metadata": {
      "needs_background": "light"
     },
     "output_type": "display_data"
    },
    {
     "name": "stdout",
     "output_type": "stream",
     "text": [
      "pos_removal\n",
      "40.30932641029358\n",
      "Epoch 1/10\n",
      "8/8 [==============================] - 0s 3ms/step - loss: 0.8313 - accuracy: 0.5025\n",
      "Epoch 2/10\n",
      "8/8 [==============================] - 0s 3ms/step - loss: 0.6922 - accuracy: 0.5500\n",
      "Epoch 3/10\n",
      "8/8 [==============================] - 0s 3ms/step - loss: 0.6642 - accuracy: 0.6087\n",
      "Epoch 4/10\n",
      "8/8 [==============================] - 0s 4ms/step - loss: 0.6170 - accuracy: 0.6625\n",
      "Epoch 5/10\n",
      "8/8 [==============================] - 0s 3ms/step - loss: 0.5753 - accuracy: 0.7387\n",
      "Epoch 6/10\n",
      "8/8 [==============================] - 0s 3ms/step - loss: 0.5346 - accuracy: 0.7613\n",
      "Epoch 7/10\n",
      "8/8 [==============================] - 0s 4ms/step - loss: 0.5053 - accuracy: 0.7688\n",
      "Epoch 8/10\n",
      "8/8 [==============================] - 0s 3ms/step - loss: 0.4782 - accuracy: 0.7850\n",
      "Epoch 9/10\n",
      "8/8 [==============================] - 0s 3ms/step - loss: 0.4328 - accuracy: 0.8238\n",
      "Epoch 10/10\n",
      "8/8 [==============================] - 0s 3ms/step - loss: 0.3996 - accuracy: 0.8425\n",
      "Accuracy:  0.62\n",
      "Error:  0.38\n",
      "Precision:  0.6164\n",
      "Recall:  0.4839\n",
      "F1-Score:  0.5422\n"
     ]
    },
    {
     "data": {
      "image/png": "[encoded data removed]",
      "text/plain": [
       "<Figure size 432x288 with 2 Axes>"
      ]
     },
     "metadata": {
      "needs_background": "light"
     },
     "output_type": "display_data"
    },
    {
     "name": "stdout",
     "output_type": "stream",
     "text": [
      "lem\n",
      "1.1238164901733398\n",
      "Accuracy:  0.73\n",
      "Error:  0.27\n",
      "Precision:  0.7294\n",
      "Recall:  0.6667\n",
      "F1-Score:  0.6966\n"
     ]
    },
    {
     "data": {
      "image/png": "[encoded data removed]",
      "text/plain": [
       "<Figure size 432x288 with 2 Axes>"
      ]
     },
     "metadata": {
      "needs_background": "light"
     },
     "output_type": "display_data"
    },
    {
     "name": "stdout",
     "output_type": "stream",
     "text": [
      "stemming\n",
      "5.113436460494995\n",
      "Accuracy:  0.705\n",
      "Error:  0.295\n",
      "Precision:  0.6932\n",
      "Recall:  0.6559\n",
      "F1-Score:  0.674\n"
     ]
    },
    {
     "data": {
      "image/png": "[encoded data removed]",
      "text/plain": [
       "<Figure size 432x288 with 2 Axes>"
      ]
     },
     "metadata": {
      "needs_background": "light"
     },
     "output_type": "display_data"
    },
    {
     "name": "stdout",
     "output_type": "stream",
     "text": [
      "contraction_expansion\n",
      "40.09238624572754\n",
      "Accuracy:  0.705\n",
      "Error:  0.295\n",
      "Precision:  0.7429\n",
      "Recall:  0.5591\n",
      "F1-Score:  0.638\n"
     ]
    },
    {
     "data": {
      "image/png": "[encoded data removed]",
      "text/plain": [
       "<Figure size 432x288 with 2 Axes>"
      ]
     },
     "metadata": {
      "needs_background": "light"
     },
     "output_type": "display_data"
    },
    {
     "name": "stdout",
     "output_type": "stream",
     "text": [
      "number_removal\n",
      "0.013962507247924805\n",
      "Accuracy:  0.72\n",
      "Error:  0.28\n",
      "Precision:  0.7229\n",
      "Recall:  0.6452\n",
      "F1-Score:  0.6818\n"
     ]
    },
    {
     "data": {
      "image/png": "[encoded data removed]",
      "text/plain": [
       "<Figure size 432x288 with 2 Axes>"
      ]
     },
     "metadata": {
      "needs_background": "light"
     },
     "output_type": "display_data"
    },
    {
     "name": "stdout",
     "output_type": "stream",
     "text": [
      "punctuation_removal\n",
      "0.014960050582885742\n",
      "Accuracy:  0.72\n",
      "Error:  0.28\n",
      "Precision:  0.7229\n",
      "Recall:  0.6452\n",
      "F1-Score:  0.6818\n"
     ]
    },
    {
     "data": {
      "image/png": "[encoded data removed]",
      "text/plain": [
       "<Figure size 432x288 with 2 Axes>"
      ]
     },
     "metadata": {
      "needs_background": "light"
     },
     "output_type": "display_data"
    },
    {
     "name": "stdout",
     "output_type": "stream",
     "text": [
      "stopword_removal\n",
      "0.043883323669433594\n",
      "Accuracy:  0.72\n",
      "Error:  0.28\n",
      "Precision:  0.7229\n",
      "Recall:  0.6452\n",
      "F1-Score:  0.6818\n"
     ]
    },
    {
     "data": {
      "image/png": "[encoded data removed]",
      "text/plain": [
       "<Figure size 432x288 with 2 Axes>"
      ]
     },
     "metadata": {
      "needs_background": "light"
     },
     "output_type": "display_data"
    },
    {
     "name": "stdout",
     "output_type": "stream",
     "text": [
      "pos_removal\n",
      "39.71013259887695\n",
      "Accuracy:  0.72\n",
      "Error:  0.28\n",
      "Precision:  0.7229\n",
      "Recall:  0.6452\n",
      "F1-Score:  0.6818\n"
     ]
    },
    {
     "data": {
      "image/png": "[encoded data removed]",
      "text/plain": [
       "<Figure size 432x288 with 2 Axes>"
      ]
     },
     "metadata": {
      "needs_background": "light"
     },
     "output_type": "display_data"
    }
   ],
   "source": [
    "# Pre-processing options\n",
    "# apply_spelling_correction\n",
    "options = [apply_lem, apply_stemming, apply_contraction_expansion, apply_number_removal,\n",
    "          apply_punctuation_removal, apply_stopword_removal, apply_spacy]\n",
    "options_string = ['lem', 'stemming', 'contraction_expansion', 'number_removal',\n",
    "          'punctuation_removal', 'stopword_removal', 'pos_removal']\n",
    "\n",
    "columns = ['Pre-Processing', 'Acuracy', 'Error', 'Precision', 'Recall', 'F1-Score', 'Time']\n",
    "\n",
    "results_df = pd.DataFrame(columns=columns)\n",
    "\n",
    "text = movie_df['text'].to_numpy()\n",
    "labels = movie_df['label'].to_numpy()\n",
    "\n",
    "# Running experiments for Neural Network model\n",
    "for option, name in zip(options, options_string):\n",
    "    print(name)\n",
    "    X, y, t = setup_experiment(text, labels, option)\n",
    "    acc, err, pre, rec, f1, t  = run_experiment(X, y, \"Deep\", t)\n",
    "    df_dict = {'Pre-Processing':\"Deep-\"+name, 'Acuracy':acc, 'Error':err, 'Precision':pre, \n",
    "               'Recall':rec, 'F1-Score':f1, 'Time':t}\n",
    "    results_df = results_df.append(df_dict, ignore_index=True)\n",
    "    \n",
    "# Running experiments for Naive Bayes model\n",
    "for option, name in zip(options, options_string):\n",
    "    print(name)\n",
    "    X, y, t = setup_experiment(text, labels, option)\n",
    "    acc, err, pre, rec, f1, t  = run_experiment(X, y, \"NB\", t)\n",
    "    df_dict = {'Pre-Processing':\"NB-\"+name, 'Acuracy':acc, 'Error':err, 'Precision':pre, \n",
    "               'Recall':rec, 'F1-Score':f1, 'Time':t}\n",
    "    results_df = results_df.append(df_dict, ignore_index=True)"
   ]
  },
  {
   "cell_type": "code",
   "execution_count": 21,
   "metadata": {},
   "outputs": [
    {
     "data": {
      "text/html": [
       "<div>\n",
       "<style scoped>\n",
       "    .dataframe tbody tr th:only-of-type {\n",
       "        vertical-align: middle;\n",
       "    }\n",
       "\n",
       "    .dataframe tbody tr th {\n",
       "        vertical-align: top;\n",
       "    }\n",
       "\n",
       "    .dataframe thead th {\n",
       "        text-align: right;\n",
       "    }\n",
       "</style>\n",
       "<table border=\"1\" class=\"dataframe\">\n",
       "  <thead>\n",
       "    <tr style=\"text-align: right;\">\n",
       "      <th></th>\n",
       "      <th>Pre-Processing</th>\n",
       "      <th>Acuracy</th>\n",
       "      <th>Error</th>\n",
       "      <th>Precision</th>\n",
       "      <th>Recall</th>\n",
       "      <th>F1-Score</th>\n",
       "      <th>Time</th>\n",
       "    </tr>\n",
       "  </thead>\n",
       "  <tbody>\n",
       "    <tr>\n",
       "      <th>0</th>\n",
       "      <td>Deep-lem</td>\n",
       "      <td>0.665</td>\n",
       "      <td>0.335</td>\n",
       "      <td>0.6711</td>\n",
       "      <td>0.5484</td>\n",
       "      <td>0.6036</td>\n",
       "      <td>1.224766</td>\n",
       "    </tr>\n",
       "    <tr>\n",
       "      <th>1</th>\n",
       "      <td>Deep-stemming</td>\n",
       "      <td>0.635</td>\n",
       "      <td>0.365</td>\n",
       "      <td>0.5877</td>\n",
       "      <td>0.7204</td>\n",
       "      <td>0.6473</td>\n",
       "      <td>5.304919</td>\n",
       "    </tr>\n",
       "    <tr>\n",
       "      <th>2</th>\n",
       "      <td>Deep-contraction_expansion</td>\n",
       "      <td>0.535</td>\n",
       "      <td>0.465</td>\n",
       "      <td>0.0000</td>\n",
       "      <td>0.0000</td>\n",
       "      <td>0.0000</td>\n",
       "      <td>41.388484</td>\n",
       "    </tr>\n",
       "    <tr>\n",
       "      <th>3</th>\n",
       "      <td>Deep-number_removal</td>\n",
       "      <td>0.605</td>\n",
       "      <td>0.395</td>\n",
       "      <td>0.5467</td>\n",
       "      <td>0.8817</td>\n",
       "      <td>0.6749</td>\n",
       "      <td>0.012964</td>\n",
       "    </tr>\n",
       "    <tr>\n",
       "      <th>4</th>\n",
       "      <td>Deep-punctuation_removal</td>\n",
       "      <td>0.640</td>\n",
       "      <td>0.360</td>\n",
       "      <td>0.6780</td>\n",
       "      <td>0.4301</td>\n",
       "      <td>0.5263</td>\n",
       "      <td>0.017490</td>\n",
       "    </tr>\n",
       "    <tr>\n",
       "      <th>5</th>\n",
       "      <td>Deep-stopword_removal</td>\n",
       "      <td>0.645</td>\n",
       "      <td>0.355</td>\n",
       "      <td>0.6964</td>\n",
       "      <td>0.4194</td>\n",
       "      <td>0.5235</td>\n",
       "      <td>0.051862</td>\n",
       "    </tr>\n",
       "    <tr>\n",
       "      <th>6</th>\n",
       "      <td>Deep-pos_removal</td>\n",
       "      <td>0.620</td>\n",
       "      <td>0.380</td>\n",
       "      <td>0.6164</td>\n",
       "      <td>0.4839</td>\n",
       "      <td>0.5422</td>\n",
       "      <td>40.309326</td>\n",
       "    </tr>\n",
       "    <tr>\n",
       "      <th>7</th>\n",
       "      <td>NB-lem</td>\n",
       "      <td>0.730</td>\n",
       "      <td>0.270</td>\n",
       "      <td>0.7294</td>\n",
       "      <td>0.6667</td>\n",
       "      <td>0.6966</td>\n",
       "      <td>1.123816</td>\n",
       "    </tr>\n",
       "    <tr>\n",
       "      <th>8</th>\n",
       "      <td>NB-stemming</td>\n",
       "      <td>0.705</td>\n",
       "      <td>0.295</td>\n",
       "      <td>0.6932</td>\n",
       "      <td>0.6559</td>\n",
       "      <td>0.6740</td>\n",
       "      <td>5.113436</td>\n",
       "    </tr>\n",
       "    <tr>\n",
       "      <th>9</th>\n",
       "      <td>NB-contraction_expansion</td>\n",
       "      <td>0.705</td>\n",
       "      <td>0.295</td>\n",
       "      <td>0.7429</td>\n",
       "      <td>0.5591</td>\n",
       "      <td>0.6380</td>\n",
       "      <td>40.092386</td>\n",
       "    </tr>\n",
       "    <tr>\n",
       "      <th>10</th>\n",
       "      <td>NB-number_removal</td>\n",
       "      <td>0.720</td>\n",
       "      <td>0.280</td>\n",
       "      <td>0.7229</td>\n",
       "      <td>0.6452</td>\n",
       "      <td>0.6818</td>\n",
       "      <td>0.013963</td>\n",
       "    </tr>\n",
       "    <tr>\n",
       "      <th>11</th>\n",
       "      <td>NB-punctuation_removal</td>\n",
       "      <td>0.720</td>\n",
       "      <td>0.280</td>\n",
       "      <td>0.7229</td>\n",
       "      <td>0.6452</td>\n",
       "      <td>0.6818</td>\n",
       "      <td>0.014960</td>\n",
       "    </tr>\n",
       "    <tr>\n",
       "      <th>12</th>\n",
       "      <td>NB-stopword_removal</td>\n",
       "      <td>0.720</td>\n",
       "      <td>0.280</td>\n",
       "      <td>0.7229</td>\n",
       "      <td>0.6452</td>\n",
       "      <td>0.6818</td>\n",
       "      <td>0.043883</td>\n",
       "    </tr>\n",
       "    <tr>\n",
       "      <th>13</th>\n",
       "      <td>NB-pos_removal</td>\n",
       "      <td>0.720</td>\n",
       "      <td>0.280</td>\n",
       "      <td>0.7229</td>\n",
       "      <td>0.6452</td>\n",
       "      <td>0.6818</td>\n",
       "      <td>39.710133</td>\n",
       "    </tr>\n",
       "  </tbody>\n",
       "</table>\n",
       "</div>"
      ],
      "text/plain": [
       "                Pre-Processing  Acuracy  Error  Precision  Recall  F1-Score  \\\n",
       "0                     Deep-lem    0.665  0.335     0.6711  0.5484    0.6036   \n",
       "1                Deep-stemming    0.635  0.365     0.5877  0.7204    0.6473   \n",
       "2   Deep-contraction_expansion    0.535  0.465     0.0000  0.0000    0.0000   \n",
       "3          Deep-number_removal    0.605  0.395     0.5467  0.8817    0.6749   \n",
       "4     Deep-punctuation_removal    0.640  0.360     0.6780  0.4301    0.5263   \n",
       "5        Deep-stopword_removal    0.645  0.355     0.6964  0.4194    0.5235   \n",
       "6             Deep-pos_removal    0.620  0.380     0.6164  0.4839    0.5422   \n",
       "7                       NB-lem    0.730  0.270     0.7294  0.6667    0.6966   \n",
       "8                  NB-stemming    0.705  0.295     0.6932  0.6559    0.6740   \n",
       "9     NB-contraction_expansion    0.705  0.295     0.7429  0.5591    0.6380   \n",
       "10           NB-number_removal    0.720  0.280     0.7229  0.6452    0.6818   \n",
       "11      NB-punctuation_removal    0.720  0.280     0.7229  0.6452    0.6818   \n",
       "12         NB-stopword_removal    0.720  0.280     0.7229  0.6452    0.6818   \n",
       "13              NB-pos_removal    0.720  0.280     0.7229  0.6452    0.6818   \n",
       "\n",
       "         Time  \n",
       "0    1.224766  \n",
       "1    5.304919  \n",
       "2   41.388484  \n",
       "3    0.012964  \n",
       "4    0.017490  \n",
       "5    0.051862  \n",
       "6   40.309326  \n",
       "7    1.123816  \n",
       "8    5.113436  \n",
       "9   40.092386  \n",
       "10   0.013963  \n",
       "11   0.014960  \n",
       "12   0.043883  \n",
       "13  39.710133  "
      ]
     },
     "execution_count": 21,
     "metadata": {},
     "output_type": "execute_result"
    }
   ],
   "source": [
    "results_df"
   ]
  },
  {
   "cell_type": "markdown",
   "metadata": {},
   "source": [
    "# Result Collection & Visualization"
   ]
  },
  {
   "cell_type": "code",
   "execution_count": null,
   "metadata": {},
   "outputs": [],
   "source": []
  }
 ],
 "metadata": {
  "kernelspec": {
   "display_name": "Python 3",
   "language": "python",
   "name": "python3"
  },
  "language_info": {
   "codemirror_mode": {
    "name": "ipython",
    "version": 3
   },
   "file_extension": ".py",
   "mimetype": "text/x-python",
   "name": "python",
   "nbconvert_exporter": "python",
   "pygments_lexer": "ipython3",
   "version": "3.8.3"
  }
 },
 "nbformat": 4,
 "nbformat_minor": 4
}
